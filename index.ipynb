{
 "cells": [
  {
   "cell_type": "markdown",
   "metadata": {},
   "source": [
    "Welcome to my IE - 582 page:\n",
    "    \n",
    "   You can reach my assignments via links below:\n",
    "   \n",
    "  <a href='homewrok1-2-3.html'>Homework 1 , 2 and 3 </a>\n",
    "        \n",
    " <a href='homework4.html'>HOMEWORK 4 </a>\n",
    "        \n",
    "        \n",
    "  <small>Günay Eser</small>"
   ]
  }
 ],
 "metadata": {
  "kernelspec": {
   "display_name": "Python 3",
   "language": "python",
   "name": "python3"
  },
  "language_info": {
   "codemirror_mode": {
    "name": "ipython",
    "version": 3
   },
   "file_extension": ".py",
   "mimetype": "text/x-python",
   "name": "python",
   "nbconvert_exporter": "python",
   "pygments_lexer": "ipython3",
   "version": "3.6.6"
  }
 },
 "nbformat": 4,
 "nbformat_minor": 2
}

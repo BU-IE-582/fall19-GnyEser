{
 "cells": [
  {
   "cell_type": "markdown",
   "metadata": {},
   "source": [
    "# Homework 1 "
   ]
  },
  {
   "cell_type": "markdown",
   "metadata": {},
   "source": [
    "Importing necessary libraries."
   ]
  },
  {
   "cell_type": "code",
   "execution_count": 812,
   "metadata": {},
   "outputs": [],
   "source": [
    "import pandas as pd\n",
    "import numpy as np\n",
    "import matplotlib.pyplot as plt\n",
    "import seaborn as sns\n",
    "import math"
   ]
  },
  {
   "cell_type": "markdown",
   "metadata": {},
   "source": [
    "Reading the data from csv file:"
   ]
  },
  {
   "cell_type": "code",
   "execution_count": 814,
   "metadata": {},
   "outputs": [],
   "source": [
    "data = pd.read_csv(\"matches.csv\")\n",
    "data.fillna(0)\n",
    "data.head()\n",
    "home_goals  = list()\n",
    "away_goals = list()\n",
    "home_away_goals = list()"
   ]
  },
  {
   "cell_type": "markdown",
   "metadata": {},
   "source": [
    "Let's grab the data for only English Premier League which its ID is 148:"
   ]
  },
  {
   "cell_type": "code",
   "execution_count": 818,
   "metadata": {},
   "outputs": [],
   "source": [
    "x = data['league_id'] == 148\n",
    "data = data[x]"
   ]
  },
  {
   "cell_type": "code",
   "execution_count": 819,
   "metadata": {},
   "outputs": [
    {
     "data": {
      "text/html": [
       "<div>\n",
       "<style scoped>\n",
       "    .dataframe tbody tr th:only-of-type {\n",
       "        vertical-align: middle;\n",
       "    }\n",
       "\n",
       "    .dataframe tbody tr th {\n",
       "        vertical-align: top;\n",
       "    }\n",
       "\n",
       "    .dataframe thead th {\n",
       "        text-align: right;\n",
       "    }\n",
       "</style>\n",
       "<table border=\"1\" class=\"dataframe\">\n",
       "  <thead>\n",
       "    <tr style=\"text-align: right;\">\n",
       "      <th></th>\n",
       "      <th>match_awayteam_id</th>\n",
       "      <th>match_hometeam_id</th>\n",
       "      <th>match_id</th>\n",
       "      <th>epoch</th>\n",
       "      <th>match_status</th>\n",
       "      <th>match_live</th>\n",
       "      <th>match_hometeam_name</th>\n",
       "      <th>match_awayteam_name</th>\n",
       "      <th>match_hometeam_score</th>\n",
       "      <th>match_awayteam_score</th>\n",
       "      <th>match_hometeam_halftime_score</th>\n",
       "      <th>match_awayteam_halftime_score</th>\n",
       "      <th>match_hometeam_extra_score</th>\n",
       "      <th>match_awayteam_extra_score</th>\n",
       "      <th>match_hometeam_penalty_score</th>\n",
       "      <th>match_awayteam_penalty_score</th>\n",
       "      <th>league_id</th>\n",
       "    </tr>\n",
       "  </thead>\n",
       "  <tbody>\n",
       "    <tr>\n",
       "      <th>1</th>\n",
       "      <td>2614</td>\n",
       "      <td>2619</td>\n",
       "      <td>13331</td>\n",
       "      <td>1505561400</td>\n",
       "      <td>Finished</td>\n",
       "      <td>0</td>\n",
       "      <td>Crystal Palace</td>\n",
       "      <td>Southampton</td>\n",
       "      <td>0.0</td>\n",
       "      <td>1.0</td>\n",
       "      <td>0.0</td>\n",
       "      <td>1.0</td>\n",
       "      <td>0.0</td>\n",
       "      <td>1.0</td>\n",
       "      <td>NaN</td>\n",
       "      <td>NaN</td>\n",
       "      <td>148</td>\n",
       "    </tr>\n",
       "    <tr>\n",
       "      <th>5</th>\n",
       "      <td>2626</td>\n",
       "      <td>2623</td>\n",
       "      <td>13329</td>\n",
       "      <td>1505570400</td>\n",
       "      <td>Finished</td>\n",
       "      <td>0</td>\n",
       "      <td>Watford</td>\n",
       "      <td>Manchester City</td>\n",
       "      <td>0.0</td>\n",
       "      <td>6.0</td>\n",
       "      <td>0.0</td>\n",
       "      <td>3.0</td>\n",
       "      <td>0.0</td>\n",
       "      <td>3.0</td>\n",
       "      <td>NaN</td>\n",
       "      <td>NaN</td>\n",
       "      <td>148</td>\n",
       "    </tr>\n",
       "    <tr>\n",
       "      <th>6</th>\n",
       "      <td>2629</td>\n",
       "      <td>2621</td>\n",
       "      <td>13327</td>\n",
       "      <td>1505570400</td>\n",
       "      <td>Finished</td>\n",
       "      <td>0</td>\n",
       "      <td>Liverpool</td>\n",
       "      <td>Burnley</td>\n",
       "      <td>1.0</td>\n",
       "      <td>1.0</td>\n",
       "      <td>1.0</td>\n",
       "      <td>1.0</td>\n",
       "      <td>1.0</td>\n",
       "      <td>1.0</td>\n",
       "      <td>NaN</td>\n",
       "      <td>NaN</td>\n",
       "      <td>148</td>\n",
       "    </tr>\n",
       "    <tr>\n",
       "      <th>7</th>\n",
       "      <td>2641</td>\n",
       "      <td>2654</td>\n",
       "      <td>13456</td>\n",
       "      <td>1505570400</td>\n",
       "      <td>Finished</td>\n",
       "      <td>0</td>\n",
       "      <td>Sheffield Utd</td>\n",
       "      <td>Norwich</td>\n",
       "      <td>0.0</td>\n",
       "      <td>1.0</td>\n",
       "      <td>0.0</td>\n",
       "      <td>1.0</td>\n",
       "      <td>0.0</td>\n",
       "      <td>1.0</td>\n",
       "      <td>NaN</td>\n",
       "      <td>NaN</td>\n",
       "      <td>148</td>\n",
       "    </tr>\n",
       "    <tr>\n",
       "      <th>27</th>\n",
       "      <td>2617</td>\n",
       "      <td>2616</td>\n",
       "      <td>13324</td>\n",
       "      <td>1505651400</td>\n",
       "      <td>Finished</td>\n",
       "      <td>0</td>\n",
       "      <td>Chelsea</td>\n",
       "      <td>Arsenal</td>\n",
       "      <td>0.0</td>\n",
       "      <td>0.0</td>\n",
       "      <td>0.0</td>\n",
       "      <td>0.0</td>\n",
       "      <td>0.0</td>\n",
       "      <td>0.0</td>\n",
       "      <td>NaN</td>\n",
       "      <td>NaN</td>\n",
       "      <td>148</td>\n",
       "    </tr>\n",
       "  </tbody>\n",
       "</table>\n",
       "</div>"
      ],
      "text/plain": [
       "    match_awayteam_id  match_hometeam_id  match_id       epoch match_status  \\\n",
       "1                2614               2619     13331  1505561400     Finished   \n",
       "5                2626               2623     13329  1505570400     Finished   \n",
       "6                2629               2621     13327  1505570400     Finished   \n",
       "7                2641               2654     13456  1505570400     Finished   \n",
       "27               2617               2616     13324  1505651400     Finished   \n",
       "\n",
       "    match_live match_hometeam_name match_awayteam_name  match_hometeam_score  \\\n",
       "1            0      Crystal Palace         Southampton                   0.0   \n",
       "5            0             Watford     Manchester City                   0.0   \n",
       "6            0           Liverpool             Burnley                   1.0   \n",
       "7            0       Sheffield Utd             Norwich                   0.0   \n",
       "27           0             Chelsea             Arsenal                   0.0   \n",
       "\n",
       "    match_awayteam_score  match_hometeam_halftime_score  \\\n",
       "1                    1.0                            0.0   \n",
       "5                    6.0                            0.0   \n",
       "6                    1.0                            1.0   \n",
       "7                    1.0                            0.0   \n",
       "27                   0.0                            0.0   \n",
       "\n",
       "    match_awayteam_halftime_score  match_hometeam_extra_score  \\\n",
       "1                             1.0                         0.0   \n",
       "5                             3.0                         0.0   \n",
       "6                             1.0                         1.0   \n",
       "7                             1.0                         0.0   \n",
       "27                            0.0                         0.0   \n",
       "\n",
       "    match_awayteam_extra_score  match_hometeam_penalty_score  \\\n",
       "1                          1.0                           NaN   \n",
       "5                          3.0                           NaN   \n",
       "6                          1.0                           NaN   \n",
       "7                          1.0                           NaN   \n",
       "27                         0.0                           NaN   \n",
       "\n",
       "    match_awayteam_penalty_score  league_id  \n",
       "1                            NaN        148  \n",
       "5                            NaN        148  \n",
       "6                            NaN        148  \n",
       "7                            NaN        148  \n",
       "27                           NaN        148  "
      ]
     },
     "execution_count": 819,
     "metadata": {},
     "output_type": "execute_result"
    }
   ],
   "source": [
    "data.head()"
   ]
  },
  {
   "cell_type": "markdown",
   "metadata": {},
   "source": [
    "Assing home team goals and away team goals in seperate lists."
   ]
  },
  {
   "cell_type": "code",
   "execution_count": 820,
   "metadata": {},
   "outputs": [],
   "source": [
    "home_goals = data[\"match_hometeam_score\"].tolist()\n",
    "away_goals = data[\"match_awayteam_score\"].tolist()"
   ]
  },
  {
   "cell_type": "markdown",
   "metadata": {},
   "source": [
    "Let's see how big our dataset."
   ]
  },
  {
   "cell_type": "code",
   "execution_count": 821,
   "metadata": {},
   "outputs": [
    {
     "name": "stdout",
     "output_type": "stream",
     "text": [
      "<class 'pandas.core.frame.DataFrame'>\n",
      "Int64Index: 628 entries, 1 to 5161\n",
      "Data columns (total 1 columns):\n",
      "match_hometeam_score    618 non-null float64\n",
      "dtypes: float64(1)\n",
      "memory usage: 9.8 KB\n"
     ]
    }
   ],
   "source": [
    "data[\"match_hometeam_score\"].to_frame().info()"
   ]
  },
  {
   "cell_type": "markdown",
   "metadata": {},
   "source": [
    "Let's create another list for results combining home and away goals."
   ]
  },
  {
   "cell_type": "code",
   "execution_count": 823,
   "metadata": {},
   "outputs": [],
   "source": [
    "for i in range(618):\n",
    "    home_away_goals.append(str(home_goals[i]) + \"-\" + str(away_goals[i]))"
   ]
  },
  {
   "cell_type": "markdown",
   "metadata": {},
   "source": [
    "Let's see the histogram of home team goals."
   ]
  },
  {
   "cell_type": "code",
   "execution_count": 824,
   "metadata": {},
   "outputs": [
    {
     "data": {
      "image/png": "[encoded data removed]",
      "text/plain": [
       "<Figure size 936x504 with 1 Axes>"
      ]
     },
     "metadata": {},
     "output_type": "display_data"
    }
   ],
   "source": [
    "sns.set(style=\"darkgrid\")\n",
    "plt.figure(figsize=(13,7))\n",
    "ax = sns.countplot(x=home_goals)\n",
    "ax.set(xlabel='Home Goals', ylabel='Number of Games')\n",
    "plt.show()"
   ]
  },
  {
   "cell_type": "markdown",
   "metadata": {},
   "source": [
    "And away goals:"
   ]
  },
  {
   "cell_type": "code",
   "execution_count": 825,
   "metadata": {},
   "outputs": [
    {
     "data": {
      "image/png": "[encoded data removed]",
      "text/plain": [
       "<Figure size 936x504 with 1 Axes>"
      ]
     },
     "metadata": {},
     "output_type": "display_data"
    }
   ],
   "source": [
    "sns.set(style=\"darkgrid\")\n",
    "plt.figure(figsize=(13,7))\n",
    "ax = sns.countplot(x=away_goals)\n",
    "ax.set(xlabel='Away Goals', ylabel='Number of Games')\n",
    "plt.show()"
   ]
  },
  {
   "cell_type": "markdown",
   "metadata": {},
   "source": [
    "And which results are more likely to occur in matches:"
   ]
  },
  {
   "cell_type": "code",
   "execution_count": 826,
   "metadata": {},
   "outputs": [
    {
     "data": {
      "image/png": "[encoded data removed]",
      "text/plain": [
       "<Figure size 1224x504 with 1 Axes>"
      ]
     },
     "metadata": {},
     "output_type": "display_data"
    }
   ],
   "source": [
    "plt.figure(figsize=(17,7))\n",
    "ax = sns.countplot(x=home_away_goals)\n",
    "ax.set(xlabel='Home goals – Away Goals', ylabel='Number of Games')\n",
    "plt.xticks(rotation=45)\n",
    "plt.show()"
   ]
  },
  {
   "cell_type": "markdown",
   "metadata": {},
   "source": [
    "It looks like distribution of away goals looks like poisson distribution."
   ]
  },
  {
   "cell_type": "code",
   "execution_count": 250,
   "metadata": {},
   "outputs": [],
   "source": [
    "aways = data.match_awayteam_score.dropna().astype(int)\n",
    "dats = list()\n",
    "for i in aways:\n",
    "    dats.append(int(i))"
   ]
  },
  {
   "cell_type": "code",
   "execution_count": 827,
   "metadata": {},
   "outputs": [],
   "source": [
    "from scipy import stats\n",
    "from scipy.stats import norm"
   ]
  },
  {
   "cell_type": "markdown",
   "metadata": {},
   "source": [
    "When we try to plot distribituon :"
   ]
  },
  {
   "cell_type": "code",
   "execution_count": 831,
   "metadata": {},
   "outputs": [
    {
     "data": {
      "text/plain": [
       "<matplotlib.axes._subplots.AxesSubplot at 0x234778f3160>"
      ]
     },
     "execution_count": 831,
     "metadata": {},
     "output_type": "execute_result"
    },
    {
     "data": {
      "image/png": "[encoded data removed]",
      "text/plain": [
       "<Figure size 432x288 with 1 Axes>"
      ]
     },
     "metadata": {},
     "output_type": "display_data"
    }
   ],
   "source": [
    "sns.distplot(data.match_awayteam_score.dropna(), bins=7)"
   ]
  },
  {
   "cell_type": "markdown",
   "metadata": {},
   "source": [
    "# Task 2"
   ]
  },
  {
   "cell_type": "code",
   "execution_count": 282,
   "metadata": {},
   "outputs": [
    {
     "data": {
      "text/html": [
       "<div>\n",
       "<style scoped>\n",
       "    .dataframe tbody tr th:only-of-type {\n",
       "        vertical-align: middle;\n",
       "    }\n",
       "\n",
       "    .dataframe tbody tr th {\n",
       "        vertical-align: top;\n",
       "    }\n",
       "\n",
       "    .dataframe thead th {\n",
       "        text-align: right;\n",
       "    }\n",
       "</style>\n",
       "<table border=\"1\" class=\"dataframe\">\n",
       "  <thead>\n",
       "    <tr style=\"text-align: right;\">\n",
       "      <th></th>\n",
       "      <th>match_id</th>\n",
       "      <th>time</th>\n",
       "      <th>home_fault</th>\n",
       "      <th>card</th>\n",
       "      <th>away_fault</th>\n",
       "    </tr>\n",
       "  </thead>\n",
       "  <tbody>\n",
       "    <tr>\n",
       "      <th>0</th>\n",
       "      <td>13327</td>\n",
       "      <td>90+3</td>\n",
       "      <td>Can E.</td>\n",
       "      <td>yellow card</td>\n",
       "      <td>NaN</td>\n",
       "    </tr>\n",
       "    <tr>\n",
       "      <th>1</th>\n",
       "      <td>13329</td>\n",
       "      <td>29</td>\n",
       "      <td>Holebas J.</td>\n",
       "      <td>yellow card</td>\n",
       "      <td>NaN</td>\n",
       "    </tr>\n",
       "    <tr>\n",
       "      <th>2</th>\n",
       "      <td>13329</td>\n",
       "      <td>40</td>\n",
       "      <td>Doucoure A.</td>\n",
       "      <td>yellow card</td>\n",
       "      <td>NaN</td>\n",
       "    </tr>\n",
       "    <tr>\n",
       "      <th>3</th>\n",
       "      <td>13331</td>\n",
       "      <td>33</td>\n",
       "      <td>Cabaye Y.</td>\n",
       "      <td>yellow card</td>\n",
       "      <td>NaN</td>\n",
       "    </tr>\n",
       "    <tr>\n",
       "      <th>4</th>\n",
       "      <td>13331</td>\n",
       "      <td>50</td>\n",
       "      <td>Puncheon J.</td>\n",
       "      <td>yellow card</td>\n",
       "      <td>NaN</td>\n",
       "    </tr>\n",
       "  </tbody>\n",
       "</table>\n",
       "</div>"
      ],
      "text/plain": [
       "   match_id  time    home_fault         card away_fault\n",
       "0     13327  90+3       Can E.   yellow card        NaN\n",
       "1     13329    29   Holebas J.   yellow card        NaN\n",
       "2     13329    40  Doucoure A.   yellow card        NaN\n",
       "3     13331    33    Cabaye Y.   yellow card        NaN\n",
       "4     13331    50  Puncheon J.   yellow card        NaN"
      ]
     },
     "execution_count": 282,
     "metadata": {},
     "output_type": "execute_result"
    }
   ],
   "source": [
    "books = pd.read_csv(\"booking.csv\")\n",
    "books.head()"
   ]
  },
  {
   "cell_type": "code",
   "execution_count": 863,
   "metadata": {},
   "outputs": [
    {
     "data": {
      "text/html": [
       "<div>\n",
       "<style scoped>\n",
       "    .dataframe tbody tr th:only-of-type {\n",
       "        vertical-align: middle;\n",
       "    }\n",
       "\n",
       "    .dataframe tbody tr th {\n",
       "        vertical-align: top;\n",
       "    }\n",
       "\n",
       "    .dataframe thead th {\n",
       "        text-align: right;\n",
       "    }\n",
       "</style>\n",
       "<table border=\"1\" class=\"dataframe\">\n",
       "  <thead>\n",
       "    <tr style=\"text-align: right;\">\n",
       "      <th></th>\n",
       "      <th>match_id</th>\n",
       "      <th>odd_bookmakers</th>\n",
       "      <th>odd_epoch</th>\n",
       "      <th>variable</th>\n",
       "      <th>value</th>\n",
       "    </tr>\n",
       "  </thead>\n",
       "  <tbody>\n",
       "    <tr>\n",
       "      <th>0</th>\n",
       "      <td>146845</td>\n",
       "      <td>BetOlimp</td>\n",
       "      <td>1486301854</td>\n",
       "      <td>odd_1</td>\n",
       "      <td>1.96</td>\n",
       "    </tr>\n",
       "    <tr>\n",
       "      <th>1</th>\n",
       "      <td>151780</td>\n",
       "      <td>10Bet</td>\n",
       "      <td>1486314920</td>\n",
       "      <td>odd_1</td>\n",
       "      <td>2.15</td>\n",
       "    </tr>\n",
       "    <tr>\n",
       "      <th>2</th>\n",
       "      <td>151780</td>\n",
       "      <td>18bet</td>\n",
       "      <td>1486314920</td>\n",
       "      <td>odd_1</td>\n",
       "      <td>2.17</td>\n",
       "    </tr>\n",
       "    <tr>\n",
       "      <th>3</th>\n",
       "      <td>151780</td>\n",
       "      <td>1xBet</td>\n",
       "      <td>1486314920</td>\n",
       "      <td>odd_1</td>\n",
       "      <td>2.20</td>\n",
       "    </tr>\n",
       "    <tr>\n",
       "      <th>4</th>\n",
       "      <td>151780</td>\n",
       "      <td>5Dimes</td>\n",
       "      <td>1486314920</td>\n",
       "      <td>odd_1</td>\n",
       "      <td>2.23</td>\n",
       "    </tr>\n",
       "  </tbody>\n",
       "</table>\n",
       "</div>"
      ],
      "text/plain": [
       "   match_id odd_bookmakers   odd_epoch variable  value\n",
       "0    146845       BetOlimp  1486301854    odd_1   1.96\n",
       "1    151780          10Bet  1486314920    odd_1   2.15\n",
       "2    151780          18bet  1486314920    odd_1   2.17\n",
       "3    151780          1xBet  1486314920    odd_1   2.20\n",
       "4    151780         5Dimes  1486314920    odd_1   2.23"
      ]
     },
     "execution_count": 863,
     "metadata": {},
     "output_type": "execute_result"
    }
   ],
   "source": [
    "bets = pd.read_csv(\"bets.csv\")\n",
    "bets.head()"
   ]
  },
  {
   "cell_type": "markdown",
   "metadata": {},
   "source": [
    "**odd_x : Draw**\n",
    "\n",
    "**odd_1 : Home Wins**\n",
    "\n",
    "**odd_2 : Away Wins**\n",
    "\n",
    "Let's create another column which contains the probabilities that has been given by bookmakers using <br><br> $$\\frac {1}{P(value)}$$"
   ]
  },
  {
   "cell_type": "code",
   "execution_count": 864,
   "metadata": {},
   "outputs": [],
   "source": [
    "prob = list()\n",
    "for i in bets.value:\n",
    "    try:\n",
    "        temp = 1/i\n",
    "        prob.append(temp)\n",
    "    except:\n",
    "        temp = 0\n",
    "        prob.append(temp)\n",
    "\n",
    "bets[\"possibility\"] = prob"
   ]
  },
  {
   "cell_type": "code",
   "execution_count": 865,
   "metadata": {},
   "outputs": [
    {
     "data": {
      "text/plain": [
       "0    0.510204\n",
       "1    0.465116\n",
       "2    0.460829\n",
       "3    0.454545\n",
       "4    0.448430\n",
       "Name: possibility, dtype: float64"
      ]
     },
     "execution_count": 865,
     "metadata": {},
     "output_type": "execute_result"
    }
   ],
   "source": [
    "bets[\"possibility\"].head()"
   ]
  },
  {
   "cell_type": "markdown",
   "metadata": {},
   "source": [
    "### Lets create another column into our matches data to see if a match ended in a draw or no:"
   ]
  },
  {
   "cell_type": "code",
   "execution_count": 866,
   "metadata": {},
   "outputs": [
    {
     "data": {
      "text/plain": [
       "1     False\n",
       "5     False\n",
       "6      True\n",
       "7     False\n",
       "27     True\n",
       "Name: results, dtype: bool"
      ]
     },
     "execution_count": 866,
     "metadata": {},
     "output_type": "execute_result"
    }
   ],
   "source": [
    "data[\"results\"] =  data[\"match_awayteam_score\"] == data[\"match_hometeam_score\"]\n",
    "data.results.head()"
   ]
  },
  {
   "cell_type": "code",
   "execution_count": 867,
   "metadata": {},
   "outputs": [
    {
     "data": {
      "text/html": [
       "<div>\n",
       "<style scoped>\n",
       "    .dataframe tbody tr th:only-of-type {\n",
       "        vertical-align: middle;\n",
       "    }\n",
       "\n",
       "    .dataframe tbody tr th {\n",
       "        vertical-align: top;\n",
       "    }\n",
       "\n",
       "    .dataframe thead th {\n",
       "        text-align: right;\n",
       "    }\n",
       "</style>\n",
       "<table border=\"1\" class=\"dataframe\">\n",
       "  <thead>\n",
       "    <tr style=\"text-align: right;\">\n",
       "      <th></th>\n",
       "      <th>match_awayteam_id</th>\n",
       "      <th>match_hometeam_id</th>\n",
       "      <th>match_id</th>\n",
       "      <th>epoch</th>\n",
       "      <th>match_status</th>\n",
       "      <th>match_live</th>\n",
       "      <th>match_hometeam_name</th>\n",
       "      <th>match_awayteam_name</th>\n",
       "      <th>match_hometeam_score</th>\n",
       "      <th>match_awayteam_score</th>\n",
       "      <th>match_hometeam_halftime_score</th>\n",
       "      <th>match_awayteam_halftime_score</th>\n",
       "      <th>match_hometeam_extra_score</th>\n",
       "      <th>match_awayteam_extra_score</th>\n",
       "      <th>match_hometeam_penalty_score</th>\n",
       "      <th>match_awayteam_penalty_score</th>\n",
       "      <th>league_id</th>\n",
       "      <th>results</th>\n",
       "    </tr>\n",
       "  </thead>\n",
       "  <tbody>\n",
       "    <tr>\n",
       "      <th>1</th>\n",
       "      <td>2614</td>\n",
       "      <td>2619</td>\n",
       "      <td>13331</td>\n",
       "      <td>1505561400</td>\n",
       "      <td>Finished</td>\n",
       "      <td>0</td>\n",
       "      <td>Crystal Palace</td>\n",
       "      <td>Southampton</td>\n",
       "      <td>0.0</td>\n",
       "      <td>1.0</td>\n",
       "      <td>0.0</td>\n",
       "      <td>1.0</td>\n",
       "      <td>0.0</td>\n",
       "      <td>1.0</td>\n",
       "      <td>NaN</td>\n",
       "      <td>NaN</td>\n",
       "      <td>148</td>\n",
       "      <td>False</td>\n",
       "    </tr>\n",
       "    <tr>\n",
       "      <th>5</th>\n",
       "      <td>2626</td>\n",
       "      <td>2623</td>\n",
       "      <td>13329</td>\n",
       "      <td>1505570400</td>\n",
       "      <td>Finished</td>\n",
       "      <td>0</td>\n",
       "      <td>Watford</td>\n",
       "      <td>Manchester City</td>\n",
       "      <td>0.0</td>\n",
       "      <td>6.0</td>\n",
       "      <td>0.0</td>\n",
       "      <td>3.0</td>\n",
       "      <td>0.0</td>\n",
       "      <td>3.0</td>\n",
       "      <td>NaN</td>\n",
       "      <td>NaN</td>\n",
       "      <td>148</td>\n",
       "      <td>False</td>\n",
       "    </tr>\n",
       "    <tr>\n",
       "      <th>6</th>\n",
       "      <td>2629</td>\n",
       "      <td>2621</td>\n",
       "      <td>13327</td>\n",
       "      <td>1505570400</td>\n",
       "      <td>Finished</td>\n",
       "      <td>0</td>\n",
       "      <td>Liverpool</td>\n",
       "      <td>Burnley</td>\n",
       "      <td>1.0</td>\n",
       "      <td>1.0</td>\n",
       "      <td>1.0</td>\n",
       "      <td>1.0</td>\n",
       "      <td>1.0</td>\n",
       "      <td>1.0</td>\n",
       "      <td>NaN</td>\n",
       "      <td>NaN</td>\n",
       "      <td>148</td>\n",
       "      <td>True</td>\n",
       "    </tr>\n",
       "    <tr>\n",
       "      <th>7</th>\n",
       "      <td>2641</td>\n",
       "      <td>2654</td>\n",
       "      <td>13456</td>\n",
       "      <td>1505570400</td>\n",
       "      <td>Finished</td>\n",
       "      <td>0</td>\n",
       "      <td>Sheffield Utd</td>\n",
       "      <td>Norwich</td>\n",
       "      <td>0.0</td>\n",
       "      <td>1.0</td>\n",
       "      <td>0.0</td>\n",
       "      <td>1.0</td>\n",
       "      <td>0.0</td>\n",
       "      <td>1.0</td>\n",
       "      <td>NaN</td>\n",
       "      <td>NaN</td>\n",
       "      <td>148</td>\n",
       "      <td>False</td>\n",
       "    </tr>\n",
       "    <tr>\n",
       "      <th>27</th>\n",
       "      <td>2617</td>\n",
       "      <td>2616</td>\n",
       "      <td>13324</td>\n",
       "      <td>1505651400</td>\n",
       "      <td>Finished</td>\n",
       "      <td>0</td>\n",
       "      <td>Chelsea</td>\n",
       "      <td>Arsenal</td>\n",
       "      <td>0.0</td>\n",
       "      <td>0.0</td>\n",
       "      <td>0.0</td>\n",
       "      <td>0.0</td>\n",
       "      <td>0.0</td>\n",
       "      <td>0.0</td>\n",
       "      <td>NaN</td>\n",
       "      <td>NaN</td>\n",
       "      <td>148</td>\n",
       "      <td>True</td>\n",
       "    </tr>\n",
       "  </tbody>\n",
       "</table>\n",
       "</div>"
      ],
      "text/plain": [
       "    match_awayteam_id  match_hometeam_id  match_id       epoch match_status  \\\n",
       "1                2614               2619     13331  1505561400     Finished   \n",
       "5                2626               2623     13329  1505570400     Finished   \n",
       "6                2629               2621     13327  1505570400     Finished   \n",
       "7                2641               2654     13456  1505570400     Finished   \n",
       "27               2617               2616     13324  1505651400     Finished   \n",
       "\n",
       "    match_live match_hometeam_name match_awayteam_name  match_hometeam_score  \\\n",
       "1            0      Crystal Palace         Southampton                   0.0   \n",
       "5            0             Watford     Manchester City                   0.0   \n",
       "6            0           Liverpool             Burnley                   1.0   \n",
       "7            0       Sheffield Utd             Norwich                   0.0   \n",
       "27           0             Chelsea             Arsenal                   0.0   \n",
       "\n",
       "    match_awayteam_score  match_hometeam_halftime_score  \\\n",
       "1                    1.0                            0.0   \n",
       "5                    6.0                            0.0   \n",
       "6                    1.0                            1.0   \n",
       "7                    1.0                            0.0   \n",
       "27                   0.0                            0.0   \n",
       "\n",
       "    match_awayteam_halftime_score  match_hometeam_extra_score  \\\n",
       "1                             1.0                         0.0   \n",
       "5                             3.0                         0.0   \n",
       "6                             1.0                         1.0   \n",
       "7                             1.0                         0.0   \n",
       "27                            0.0                         0.0   \n",
       "\n",
       "    match_awayteam_extra_score  match_hometeam_penalty_score  \\\n",
       "1                          1.0                           NaN   \n",
       "5                          3.0                           NaN   \n",
       "6                          1.0                           NaN   \n",
       "7                          1.0                           NaN   \n",
       "27                         0.0                           NaN   \n",
       "\n",
       "    match_awayteam_penalty_score  league_id  results  \n",
       "1                            NaN        148    False  \n",
       "5                            NaN        148    False  \n",
       "6                            NaN        148     True  \n",
       "7                            NaN        148    False  \n",
       "27                           NaN        148     True  "
      ]
     },
     "execution_count": 867,
     "metadata": {},
     "output_type": "execute_result"
    }
   ],
   "source": [
    "data.head()"
   ]
  },
  {
   "cell_type": "code",
   "execution_count": 868,
   "metadata": {},
   "outputs": [
    {
     "data": {
      "text/html": [
       "<div>\n",
       "<style scoped>\n",
       "    .dataframe tbody tr th:only-of-type {\n",
       "        vertical-align: middle;\n",
       "    }\n",
       "\n",
       "    .dataframe tbody tr th {\n",
       "        vertical-align: top;\n",
       "    }\n",
       "\n",
       "    .dataframe thead th {\n",
       "        text-align: right;\n",
       "    }\n",
       "</style>\n",
       "<table border=\"1\" class=\"dataframe\">\n",
       "  <thead>\n",
       "    <tr style=\"text-align: right;\">\n",
       "      <th></th>\n",
       "      <th>match_id</th>\n",
       "      <th>odd_bookmakers</th>\n",
       "      <th>odd_epoch</th>\n",
       "      <th>variable</th>\n",
       "      <th>value</th>\n",
       "      <th>possibility</th>\n",
       "    </tr>\n",
       "  </thead>\n",
       "  <tbody>\n",
       "    <tr>\n",
       "      <th>0</th>\n",
       "      <td>146845</td>\n",
       "      <td>BetOlimp</td>\n",
       "      <td>1486301854</td>\n",
       "      <td>odd_1</td>\n",
       "      <td>1.96</td>\n",
       "      <td>0.510204</td>\n",
       "    </tr>\n",
       "    <tr>\n",
       "      <th>1</th>\n",
       "      <td>151780</td>\n",
       "      <td>10Bet</td>\n",
       "      <td>1486314920</td>\n",
       "      <td>odd_1</td>\n",
       "      <td>2.15</td>\n",
       "      <td>0.465116</td>\n",
       "    </tr>\n",
       "    <tr>\n",
       "      <th>2</th>\n",
       "      <td>151780</td>\n",
       "      <td>18bet</td>\n",
       "      <td>1486314920</td>\n",
       "      <td>odd_1</td>\n",
       "      <td>2.17</td>\n",
       "      <td>0.460829</td>\n",
       "    </tr>\n",
       "    <tr>\n",
       "      <th>3</th>\n",
       "      <td>151780</td>\n",
       "      <td>1xBet</td>\n",
       "      <td>1486314920</td>\n",
       "      <td>odd_1</td>\n",
       "      <td>2.20</td>\n",
       "      <td>0.454545</td>\n",
       "    </tr>\n",
       "    <tr>\n",
       "      <th>4</th>\n",
       "      <td>151780</td>\n",
       "      <td>5Dimes</td>\n",
       "      <td>1486314920</td>\n",
       "      <td>odd_1</td>\n",
       "      <td>2.23</td>\n",
       "      <td>0.448430</td>\n",
       "    </tr>\n",
       "  </tbody>\n",
       "</table>\n",
       "</div>"
      ],
      "text/plain": [
       "   match_id odd_bookmakers   odd_epoch variable  value  possibility\n",
       "0    146845       BetOlimp  1486301854    odd_1   1.96     0.510204\n",
       "1    151780          10Bet  1486314920    odd_1   2.15     0.465116\n",
       "2    151780          18bet  1486314920    odd_1   2.17     0.460829\n",
       "3    151780          1xBet  1486314920    odd_1   2.20     0.454545\n",
       "4    151780         5Dimes  1486314920    odd_1   2.23     0.448430"
      ]
     },
     "execution_count": 868,
     "metadata": {},
     "output_type": "execute_result"
    }
   ],
   "source": [
    "bets.head()"
   ]
  },
  {
   "cell_type": "markdown",
   "metadata": {},
   "source": [
    "We filter the Bets data to get only draw bets. And add a new column named **draw** to which contain a boolean data according to the match result, Draw or No. We make it all False for now."
   ]
  },
  {
   "cell_type": "code",
   "execution_count": 892,
   "metadata": {},
   "outputs": [],
   "source": [
    "x = bets['variable'] == 'odd_x'\n",
    "bets[\"draw\"] = False\n",
    "bets_draw = bets[x]"
   ]
  },
  {
   "cell_type": "code",
   "execution_count": 893,
   "metadata": {},
   "outputs": [
    {
     "data": {
      "text/html": [
       "<div>\n",
       "<style scoped>\n",
       "    .dataframe tbody tr th:only-of-type {\n",
       "        vertical-align: middle;\n",
       "    }\n",
       "\n",
       "    .dataframe tbody tr th {\n",
       "        vertical-align: top;\n",
       "    }\n",
       "\n",
       "    .dataframe thead th {\n",
       "        text-align: right;\n",
       "    }\n",
       "</style>\n",
       "<table border=\"1\" class=\"dataframe\">\n",
       "  <thead>\n",
       "    <tr style=\"text-align: right;\">\n",
       "      <th></th>\n",
       "      <th>match_id</th>\n",
       "      <th>odd_bookmakers</th>\n",
       "      <th>odd_epoch</th>\n",
       "      <th>variable</th>\n",
       "      <th>value</th>\n",
       "      <th>possibility</th>\n",
       "      <th>draw</th>\n",
       "    </tr>\n",
       "  </thead>\n",
       "  <tbody>\n",
       "    <tr>\n",
       "      <th>35</th>\n",
       "      <td>146845</td>\n",
       "      <td>BetOlimp</td>\n",
       "      <td>1486301854</td>\n",
       "      <td>odd_x</td>\n",
       "      <td>3.49</td>\n",
       "      <td>0.286533</td>\n",
       "      <td>False</td>\n",
       "    </tr>\n",
       "    <tr>\n",
       "      <th>36</th>\n",
       "      <td>151780</td>\n",
       "      <td>10Bet</td>\n",
       "      <td>1486314920</td>\n",
       "      <td>odd_x</td>\n",
       "      <td>3.15</td>\n",
       "      <td>0.317460</td>\n",
       "      <td>False</td>\n",
       "    </tr>\n",
       "    <tr>\n",
       "      <th>37</th>\n",
       "      <td>151780</td>\n",
       "      <td>18bet</td>\n",
       "      <td>1486314920</td>\n",
       "      <td>odd_x</td>\n",
       "      <td>3.12</td>\n",
       "      <td>0.320513</td>\n",
       "      <td>False</td>\n",
       "    </tr>\n",
       "    <tr>\n",
       "      <th>38</th>\n",
       "      <td>151780</td>\n",
       "      <td>1xBet</td>\n",
       "      <td>1486314920</td>\n",
       "      <td>odd_x</td>\n",
       "      <td>3.24</td>\n",
       "      <td>0.308642</td>\n",
       "      <td>False</td>\n",
       "    </tr>\n",
       "    <tr>\n",
       "      <th>39</th>\n",
       "      <td>151780</td>\n",
       "      <td>5Dimes</td>\n",
       "      <td>1486314920</td>\n",
       "      <td>odd_x</td>\n",
       "      <td>3.19</td>\n",
       "      <td>0.313480</td>\n",
       "      <td>False</td>\n",
       "    </tr>\n",
       "  </tbody>\n",
       "</table>\n",
       "</div>"
      ],
      "text/plain": [
       "    match_id odd_bookmakers   odd_epoch variable  value  possibility   draw\n",
       "35    146845       BetOlimp  1486301854    odd_x   3.49     0.286533  False\n",
       "36    151780          10Bet  1486314920    odd_x   3.15     0.317460  False\n",
       "37    151780          18bet  1486314920    odd_x   3.12     0.320513  False\n",
       "38    151780          1xBet  1486314920    odd_x   3.24     0.308642  False\n",
       "39    151780         5Dimes  1486314920    odd_x   3.19     0.313480  False"
      ]
     },
     "execution_count": 893,
     "metadata": {},
     "output_type": "execute_result"
    }
   ],
   "source": [
    "bets_draw.head()"
   ]
  },
  {
   "cell_type": "code",
   "execution_count": 873,
   "metadata": {},
   "outputs": [
    {
     "data": {
      "text/plain": [
       "False    493\n",
       "True     135\n",
       "Name: results, dtype: int64"
      ]
     },
     "execution_count": 873,
     "metadata": {},
     "output_type": "execute_result"
    }
   ],
   "source": [
    "data.results.value_counts()"
   ]
  },
  {
   "cell_type": "code",
   "execution_count": 875,
   "metadata": {},
   "outputs": [],
   "source": [
    "count = int()\n",
    "for index, row in bets_draw.iterrows():\n",
    "    id = row[\"match_id\"]\n",
    "    match = data.query(f'match_id == {id}')\n",
    "    if len(match) > 0:\n",
    "        if match.results.values[0]:\n",
    "            count+=1\n",
    "            bets_draw.at[index,'draw'] = True"
   ]
  },
  {
   "cell_type": "code",
   "execution_count": 880,
   "metadata": {},
   "outputs": [
    {
     "data": {
      "text/plain": [
       "3783"
      ]
     },
     "execution_count": 880,
     "metadata": {},
     "output_type": "execute_result"
    }
   ],
   "source": [
    "count"
   ]
  },
  {
   "cell_type": "code",
   "execution_count": 881,
   "metadata": {},
   "outputs": [
    {
     "data": {
      "text/plain": [
       "False    140999\n",
       "True       3783\n",
       "Name: draw, dtype: int64"
      ]
     },
     "execution_count": 881,
     "metadata": {},
     "output_type": "execute_result"
    }
   ],
   "source": [
    "bets_draw.draw.value_counts()"
   ]
  },
  {
   "cell_type": "code",
   "execution_count": 885,
   "metadata": {},
   "outputs": [],
   "source": [
    "%%capture\n",
    "from tqdm import tqdm_notebook as tqdm\n",
    "tqdm().pandas()"
   ]
  },
  {
   "cell_type": "code",
   "execution_count": 895,
   "metadata": {},
   "outputs": [
    {
     "data": {
      "application/vnd.jupyter.widget-view+json": {
       "model_id": "f51adb7268c64f3e96c26e484f0c0526",
       "version_major": 2,
       "version_minor": 0
      },
      "text/plain": [
       "HBox(children=(IntProgress(value=0, max=144782), HTML(value='')))"
      ]
     },
     "metadata": {},
     "output_type": "display_data"
    },
    {
     "name": "stdout",
     "output_type": "stream",
     "text": [
      "\n"
     ]
    }
   ],
   "source": [
    "indexes = list()\n",
    "with tqdm(total = len(bets_draw)) as pbar:\n",
    "    for index,row in bets_draw.iterrows():\n",
    "        id = row['match_id']\n",
    "        match = data.query(f'match_id == {id}')\n",
    "        if len(match) == 0:\n",
    "            indexes.append(index)\n",
    "        elif len(match) > 0:\n",
    "            bets_draw.at[index,'draw'] = True\n",
    "        pbar.update(1)\n",
    "\n",
    "bets_draw = bets_draw.drop(indexes)"
   ]
  },
  {
   "cell_type": "code",
   "execution_count": 896,
   "metadata": {},
   "outputs": [
    {
     "data": {
      "text/plain": [
       "True    19660\n",
       "Name: draw, dtype: int64"
      ]
     },
     "execution_count": 896,
     "metadata": {},
     "output_type": "execute_result"
    }
   ],
   "source": [
    "bets_draw.draw.value_counts()"
   ]
  },
  {
   "cell_type": "markdown",
   "metadata": {},
   "source": [
    "We put 4 different dataset of draw bets from 4 different Bookmakers into a python list named **makers**"
   ]
  },
  {
   "cell_type": "code",
   "execution_count": 477,
   "metadata": {},
   "outputs": [],
   "source": [
    "bookmakers = bets[x].odd_bookmakers.unique().tolist()  # Get a list of bookmakers.\n",
    "#type(bookmakers)\n",
    "\n",
    "makers = list()\n",
    "\n",
    "for i in bookmakers[:4]:  #For the first 4 bookmakers in the list bookmakers. We get their data into makers list.\n",
    "    bookmaker = bets[x]['odd_bookmakers'] == i\n",
    "    \n",
    "    makers.append(bets[x][bookmaker])"
   ]
  },
  {
   "cell_type": "markdown",
   "metadata": {},
   "source": [
    "Lets see the first element of the list makers to have a better understanding of what we done.\n",
    "\n",
    "First element of makers list contains data of BetOlimp bookmakers draw data."
   ]
  },
  {
   "cell_type": "code",
   "execution_count": 478,
   "metadata": {},
   "outputs": [
    {
     "data": {
      "text/html": [
       "<div>\n",
       "<style scoped>\n",
       "    .dataframe tbody tr th:only-of-type {\n",
       "        vertical-align: middle;\n",
       "    }\n",
       "\n",
       "    .dataframe tbody tr th {\n",
       "        vertical-align: top;\n",
       "    }\n",
       "\n",
       "    .dataframe thead th {\n",
       "        text-align: right;\n",
       "    }\n",
       "</style>\n",
       "<table border=\"1\" class=\"dataframe\">\n",
       "  <thead>\n",
       "    <tr style=\"text-align: right;\">\n",
       "      <th></th>\n",
       "      <th>match_id</th>\n",
       "      <th>odd_bookmakers</th>\n",
       "      <th>odd_epoch</th>\n",
       "      <th>variable</th>\n",
       "      <th>value</th>\n",
       "      <th>possibility</th>\n",
       "      <th>draw</th>\n",
       "    </tr>\n",
       "  </thead>\n",
       "  <tbody>\n",
       "    <tr>\n",
       "      <th>35</th>\n",
       "      <td>146845</td>\n",
       "      <td>BetOlimp</td>\n",
       "      <td>1486301854</td>\n",
       "      <td>odd_x</td>\n",
       "      <td>3.49</td>\n",
       "      <td>0.286533</td>\n",
       "      <td>False</td>\n",
       "    </tr>\n",
       "    <tr>\n",
       "      <th>42</th>\n",
       "      <td>151780</td>\n",
       "      <td>BetOlimp</td>\n",
       "      <td>1486314920</td>\n",
       "      <td>odd_x</td>\n",
       "      <td>3.15</td>\n",
       "      <td>0.317460</td>\n",
       "      <td>False</td>\n",
       "    </tr>\n",
       "    <tr>\n",
       "      <th>59</th>\n",
       "      <td>151781</td>\n",
       "      <td>BetOlimp</td>\n",
       "      <td>1486314941</td>\n",
       "      <td>odd_x</td>\n",
       "      <td>3.28</td>\n",
       "      <td>0.304878</td>\n",
       "      <td>False</td>\n",
       "    </tr>\n",
       "    <tr>\n",
       "      <th>166</th>\n",
       "      <td>147990</td>\n",
       "      <td>BetOlimp</td>\n",
       "      <td>1486710451</td>\n",
       "      <td>odd_x</td>\n",
       "      <td>3.23</td>\n",
       "      <td>0.309598</td>\n",
       "      <td>False</td>\n",
       "    </tr>\n",
       "    <tr>\n",
       "      <th>183</th>\n",
       "      <td>148000</td>\n",
       "      <td>BetOlimp</td>\n",
       "      <td>1486710493</td>\n",
       "      <td>odd_x</td>\n",
       "      <td>2.99</td>\n",
       "      <td>0.334448</td>\n",
       "      <td>False</td>\n",
       "    </tr>\n",
       "    <tr>\n",
       "      <th>200</th>\n",
       "      <td>148001</td>\n",
       "      <td>BetOlimp</td>\n",
       "      <td>1486710502</td>\n",
       "      <td>odd_x</td>\n",
       "      <td>3.22</td>\n",
       "      <td>0.310559</td>\n",
       "      <td>False</td>\n",
       "    </tr>\n",
       "    <tr>\n",
       "      <th>378</th>\n",
       "      <td>147991</td>\n",
       "      <td>BetOlimp</td>\n",
       "      <td>1486797015</td>\n",
       "      <td>odd_x</td>\n",
       "      <td>3.51</td>\n",
       "      <td>0.284900</td>\n",
       "      <td>False</td>\n",
       "    </tr>\n",
       "    <tr>\n",
       "      <th>395</th>\n",
       "      <td>147992</td>\n",
       "      <td>BetOlimp</td>\n",
       "      <td>1486797022</td>\n",
       "      <td>odd_x</td>\n",
       "      <td>5.03</td>\n",
       "      <td>0.198807</td>\n",
       "      <td>False</td>\n",
       "    </tr>\n",
       "    <tr>\n",
       "      <th>412</th>\n",
       "      <td>147993</td>\n",
       "      <td>BetOlimp</td>\n",
       "      <td>1486797032</td>\n",
       "      <td>odd_x</td>\n",
       "      <td>4.59</td>\n",
       "      <td>0.217865</td>\n",
       "      <td>False</td>\n",
       "    </tr>\n",
       "    <tr>\n",
       "      <th>429</th>\n",
       "      <td>147995</td>\n",
       "      <td>BetOlimp</td>\n",
       "      <td>1486710471</td>\n",
       "      <td>odd_x</td>\n",
       "      <td>3.54</td>\n",
       "      <td>0.282486</td>\n",
       "      <td>False</td>\n",
       "    </tr>\n",
       "    <tr>\n",
       "      <th>446</th>\n",
       "      <td>147996</td>\n",
       "      <td>BetOlimp</td>\n",
       "      <td>1486797049</td>\n",
       "      <td>odd_x</td>\n",
       "      <td>3.60</td>\n",
       "      <td>0.277778</td>\n",
       "      <td>False</td>\n",
       "    </tr>\n",
       "    <tr>\n",
       "      <th>612</th>\n",
       "      <td>147997</td>\n",
       "      <td>BetOlimp</td>\n",
       "      <td>1486797054</td>\n",
       "      <td>odd_x</td>\n",
       "      <td>3.45</td>\n",
       "      <td>0.289855</td>\n",
       "      <td>False</td>\n",
       "    </tr>\n",
       "    <tr>\n",
       "      <th>629</th>\n",
       "      <td>147998</td>\n",
       "      <td>BetOlimp</td>\n",
       "      <td>1486929695</td>\n",
       "      <td>odd_x</td>\n",
       "      <td>3.21</td>\n",
       "      <td>0.311526</td>\n",
       "      <td>False</td>\n",
       "    </tr>\n",
       "    <tr>\n",
       "      <th>646</th>\n",
       "      <td>154303</td>\n",
       "      <td>BetOlimp</td>\n",
       "      <td>1486931765</td>\n",
       "      <td>odd_x</td>\n",
       "      <td>3.68</td>\n",
       "      <td>0.271739</td>\n",
       "      <td>False</td>\n",
       "    </tr>\n",
       "    <tr>\n",
       "      <th>752</th>\n",
       "      <td>150848</td>\n",
       "      <td>BetOlimp</td>\n",
       "      <td>1487365197</td>\n",
       "      <td>odd_x</td>\n",
       "      <td>3.16</td>\n",
       "      <td>0.316456</td>\n",
       "      <td>False</td>\n",
       "    </tr>\n",
       "  </tbody>\n",
       "</table>\n",
       "</div>"
      ],
      "text/plain": [
       "     match_id odd_bookmakers   odd_epoch variable  value  possibility   draw\n",
       "35     146845       BetOlimp  1486301854    odd_x   3.49     0.286533  False\n",
       "42     151780       BetOlimp  1486314920    odd_x   3.15     0.317460  False\n",
       "59     151781       BetOlimp  1486314941    odd_x   3.28     0.304878  False\n",
       "166    147990       BetOlimp  1486710451    odd_x   3.23     0.309598  False\n",
       "183    148000       BetOlimp  1486710493    odd_x   2.99     0.334448  False\n",
       "200    148001       BetOlimp  1486710502    odd_x   3.22     0.310559  False\n",
       "378    147991       BetOlimp  1486797015    odd_x   3.51     0.284900  False\n",
       "395    147992       BetOlimp  1486797022    odd_x   5.03     0.198807  False\n",
       "412    147993       BetOlimp  1486797032    odd_x   4.59     0.217865  False\n",
       "429    147995       BetOlimp  1486710471    odd_x   3.54     0.282486  False\n",
       "446    147996       BetOlimp  1486797049    odd_x   3.60     0.277778  False\n",
       "612    147997       BetOlimp  1486797054    odd_x   3.45     0.289855  False\n",
       "629    147998       BetOlimp  1486929695    odd_x   3.21     0.311526  False\n",
       "646    154303       BetOlimp  1486931765    odd_x   3.68     0.271739  False\n",
       "752    150848       BetOlimp  1487365197    odd_x   3.16     0.316456  False"
      ]
     },
     "execution_count": 478,
     "metadata": {},
     "output_type": "execute_result"
    }
   ],
   "source": [
    "makers[0].head(15)"
   ]
  },
  {
   "cell_type": "markdown",
   "metadata": {},
   "source": [
    "When we need to check if a match ended in a draw or no from its match_id it is more simple to have a dataset like below:"
   ]
  },
  {
   "cell_type": "code",
   "execution_count": 473,
   "metadata": {},
   "outputs": [
    {
     "data": {
      "text/html": [
       "<div>\n",
       "<style scoped>\n",
       "    .dataframe tbody tr th:only-of-type {\n",
       "        vertical-align: middle;\n",
       "    }\n",
       "\n",
       "    .dataframe tbody tr th {\n",
       "        vertical-align: top;\n",
       "    }\n",
       "\n",
       "    .dataframe thead th {\n",
       "        text-align: right;\n",
       "    }\n",
       "</style>\n",
       "<table border=\"1\" class=\"dataframe\">\n",
       "  <thead>\n",
       "    <tr style=\"text-align: right;\">\n",
       "      <th></th>\n",
       "      <th>match_id</th>\n",
       "      <th>results</th>\n",
       "    </tr>\n",
       "  </thead>\n",
       "  <tbody>\n",
       "    <tr>\n",
       "      <th>0</th>\n",
       "      <td>41196</td>\n",
       "      <td>True</td>\n",
       "    </tr>\n",
       "    <tr>\n",
       "      <th>1</th>\n",
       "      <td>13331</td>\n",
       "      <td>False</td>\n",
       "    </tr>\n",
       "    <tr>\n",
       "      <th>2</th>\n",
       "      <td>17683</td>\n",
       "      <td>False</td>\n",
       "    </tr>\n",
       "    <tr>\n",
       "      <th>3</th>\n",
       "      <td>17684</td>\n",
       "      <td>False</td>\n",
       "    </tr>\n",
       "    <tr>\n",
       "      <th>4</th>\n",
       "      <td>17682</td>\n",
       "      <td>False</td>\n",
       "    </tr>\n",
       "  </tbody>\n",
       "</table>\n",
       "</div>"
      ],
      "text/plain": [
       "   match_id  results\n",
       "0     41196     True\n",
       "1     13331    False\n",
       "2     17683    False\n",
       "3     17684    False\n",
       "4     17682    False"
      ]
     },
     "execution_count": 473,
     "metadata": {},
     "output_type": "execute_result"
    }
   ],
   "source": [
    "match_results = data.iloc[:,[2,-1]]\n",
    "match_results.head()"
   ]
  },
  {
   "cell_type": "markdown",
   "metadata": {},
   "source": [
    "### 4 Bookmakers that we are Going to Analyse their Draw Possiblities"
   ]
  },
  {
   "cell_type": "code",
   "execution_count": 538,
   "metadata": {},
   "outputs": [
    {
     "name": "stdout",
     "output_type": "stream",
     "text": [
      "['BetOlimp']\n",
      "['10Bet']\n",
      "['18bet']\n",
      "['1xBet']\n"
     ]
    }
   ],
   "source": [
    "for i in makers:\n",
    "    print(i.odd_bookmakers.unique())\n",
    "    continue"
   ]
  },
  {
   "cell_type": "markdown",
   "metadata": {},
   "source": [
    "Now let's turn the \"draw\" column in each element of makers list which belongs to different bookamkers to True or False if correnponding match ended in draw.\n",
    "\n",
    "To do that we need to check match ID's from the small dataset we created called match_results"
   ]
  },
  {
   "cell_type": "code",
   "execution_count": 480,
   "metadata": {},
   "outputs": [],
   "source": [
    "for index,rows in makers[0].iterrows():\n",
    "    id = rows['match_id']\n",
    "    if match_results.query(f'match_id == {id}').results.values[0]:\n",
    "        makers[0].at[index,'draw'] = True"
   ]
  },
  {
   "cell_type": "code",
   "execution_count": 499,
   "metadata": {},
   "outputs": [],
   "source": [
    "for index,rows in makers[1].iterrows():\n",
    "    id = rows['match_id']\n",
    "    if match_results.query(f\"match_id == {id}\").results.values[0]:\n",
    "        makers[1].at[index,'draw'] = True"
   ]
  },
  {
   "cell_type": "code",
   "execution_count": 501,
   "metadata": {},
   "outputs": [],
   "source": [
    "for index,rows in makers[2].iterrows():\n",
    "    id = rows['match_id']\n",
    "    if match_results.query(f\"match_id == {id}\").results.values[0]:\n",
    "        makers[2].at[index,'draw'] = True"
   ]
  },
  {
   "cell_type": "code",
   "execution_count": 502,
   "metadata": {},
   "outputs": [],
   "source": [
    "for index,rows in makers[3].iterrows():\n",
    "    id = rows['match_id']\n",
    "    if match_results.query(f\"match_id == {id}\").results.values[0]:\n",
    "        makers[3].at[index,'draw'] = True"
   ]
  },
  {
   "cell_type": "markdown",
   "metadata": {},
   "source": [
    "### Splitting Probabilities into Bins for the Bookmaker BetOlimp\n",
    "\n",
    "Now we split datasets into bins by their probability of draw.\n",
    "\n",
    "### **Probabibility Range of Bins**\n",
    "\n",
    "- ( 0.0 - 0.10 ]\n",
    "- ( 0.10 - 0.20 ]\n",
    "- ( 0.20 - 0.30 ]\n",
    "- ( 0.30 - 0.40 ]"
   ]
  },
  {
   "cell_type": "code",
   "execution_count": 581,
   "metadata": {},
   "outputs": [],
   "source": [
    "bins_for_betolimp = list()"
   ]
  },
  {
   "cell_type": "code",
   "execution_count": 623,
   "metadata": {},
   "outputs": [],
   "source": [
    "x = makers[0][np.logical_and(makers[0]['possibility'] > 0.0 , makers[0]['possibility'] <= 0.10)]\n",
    "x2 = makers[0][np.logical_and(makers[0]['possibility'] > 0.10 , makers[0]['possibility'] <= 0.20)]\n",
    "x3 = makers[0][np.logical_and(makers[0]['possibility'] > 0.20 , makers[0]['possibility'] <= 0.30)]\n",
    "x4 = makers[0][np.logical_and(makers[0]['possibility'] > 0.30 , makers[0]['possibility'] <= 0.40)]\n",
    "\n",
    "\n",
    "x5 = makers[0][np.logical_and(makers[0]['possibility'] > 0.40 , makers[0]['possibility'] <= 0.50)]\n",
    "x6 = makers[0][np.logical_and(makers[0]['possibility'] > 0.50 , makers[0]['possibility'] <= 0.60)]\n",
    "x7 = makers[0][np.logical_and(makers[0]['possibility'] > 0.60 , makers[0]['possibility'] <= 0.70)]\n",
    "x8 = makers[0][np.logical_and(makers[0]['possibility'] > 0.70 , makers[0]['possibility'] <= 0.80)]"
   ]
  },
  {
   "cell_type": "markdown",
   "metadata": {},
   "source": [
    "Note that there are no probability of draw biger than 0.40 for some datasets."
   ]
  },
  {
   "cell_type": "code",
   "execution_count": 624,
   "metadata": {},
   "outputs": [],
   "source": [
    "bins_for_betolimp = list()\n",
    "bins_for_betolimp.append(x)\n",
    "bins_for_betolimp.append(x2)\n",
    "bins_for_betolimp.append(x3)\n",
    "bins_for_betolimp.append(x4)\n",
    "bins_for_betolimp.append(x5)"
   ]
  },
  {
   "cell_type": "code",
   "execution_count": 630,
   "metadata": {},
   "outputs": [],
   "source": [
    "x = makers[1][np.logical_and(makers[1]['possibility'] > 0.0 , makers[1]['possibility'] <= 0.10)]\n",
    "x2 = makers[1][np.logical_and(makers[1]['possibility'] > 0.10 , makers[1]['possibility'] <= 0.20)]\n",
    "x3 = makers[1][np.logical_and(makers[1]['possibility'] > 0.20 , makers[1]['possibility'] <= 0.30)]\n",
    "x4 = makers[1][np.logical_and(makers[1]['possibility'] > 0.30 , makers[1]['possibility'] <= 0.40)]\n",
    "\n",
    "\n",
    "x5 = makers[1][np.logical_and(makers[1]['possibility'] > 0.40 , makers[1]['possibility'] <= 0.50)]\n",
    "x6 = makers[1][np.logical_and(makers[1]['possibility'] > 0.50 , makers[1]['possibility'] <= 0.60)]\n",
    "x7 = makers[1][np.logical_and(makers[1]['possibility'] > 0.60 , makers[1]['possibility'] <= 0.70)]\n",
    "x8 = makers[1][np.logical_and(makers[1]['possibility'] > 0.70 , makers[1]['possibility'] <= 0.80)]"
   ]
  },
  {
   "cell_type": "code",
   "execution_count": 631,
   "metadata": {},
   "outputs": [],
   "source": [
    "bins_for_10bet = list()\n",
    "\n",
    "bins_for_10bet.append(x)\n",
    "bins_for_10bet.append(x2)\n",
    "bins_for_10bet.append(x3)\n",
    "bins_for_10bet.append(x4)\n",
    "bins_for_10bet.append(x5)"
   ]
  },
  {
   "cell_type": "code",
   "execution_count": 633,
   "metadata": {},
   "outputs": [],
   "source": [
    "x = makers[2][np.logical_and(makers[2]['possibility'] > 0.0 , makers[2]['possibility'] <= 0.10)]\n",
    "x2 = makers[2][np.logical_and(makers[2]['possibility'] > 0.10 , makers[2]['possibility'] <= 0.20)]\n",
    "x3 = makers[2][np.logical_and(makers[2]['possibility'] > 0.20 , makers[2]['possibility'] <= 0.30)]\n",
    "x4 = makers[2][np.logical_and(makers[2]['possibility'] > 0.30 , makers[2]['possibility'] <= 0.40)]\n",
    "\n",
    "\n",
    "x5 = makers[2][np.logical_and(makers[2]['possibility'] > 0.40 , makers[2]['possibility'] <= 0.50)]\n",
    "x6 = makers[2][np.logical_and(makers[2]['possibility'] > 0.50 , makers[2]['possibility'] <= 0.60)]\n",
    "x7 = makers[2][np.logical_and(makers[2]['possibility'] > 0.60 , makers[2]['possibility'] <= 0.70)]\n",
    "x8 = makers[2][np.logical_and(makers[2]['possibility'] > 0.70 , makers[2]['possibility'] <= 0.80)]"
   ]
  },
  {
   "cell_type": "code",
   "execution_count": 634,
   "metadata": {},
   "outputs": [],
   "source": [
    "bins_for_18bet = list()\n",
    "\n",
    "bins_for_18bet.append(x)\n",
    "bins_for_18bet.append(x2)\n",
    "bins_for_18bet.append(x3)\n",
    "bins_for_18bet.append(x4)\n",
    "bins_for_18bet.append(x5)"
   ]
  },
  {
   "cell_type": "code",
   "execution_count": 636,
   "metadata": {},
   "outputs": [],
   "source": [
    "x = makers[3][np.logical_and(makers[3]['possibility'] > 0.0 , makers[3]['possibility'] <= 0.10)]\n",
    "x2 = makers[3][np.logical_and(makers[3]['possibility'] > 0.10 , makers[3]['possibility'] <= 0.20)]\n",
    "x3 = makers[3][np.logical_and(makers[3]['possibility'] > 0.20 , makers[3]['possibility'] <= 0.30)]\n",
    "x4 = makers[3][np.logical_and(makers[3]['possibility'] > 0.30 , makers[3]['possibility'] <= 0.40)]\n",
    "\n",
    "\n",
    "x5 = makers[3][np.logical_and(makers[3]['possibility'] > 0.40 , makers[3]['possibility'] <= 0.50)]\n",
    "x6 = makers[3][np.logical_and(makers[3]['possibility'] > 0.50 , makers[3]['possibility'] <= 0.60)]\n",
    "x7 = makers[3][np.logical_and(makers[3]['possibility'] > 0.60 , makers[3]['possibility'] <= 0.70)]\n",
    "x8 = makers[3][np.logical_and(makers[3]['possibility'] > 0.70 , makers[3]['possibility'] <= 0.80)]"
   ]
  },
  {
   "cell_type": "code",
   "execution_count": 637,
   "metadata": {},
   "outputs": [],
   "source": [
    "bins_for_1xbet = list()\n",
    "\n",
    "bins_for_1xbet.append(x)\n",
    "bins_for_1xbet.append(x2)\n",
    "bins_for_1xbet.append(x3)\n",
    "bins_for_1xbet.append(x4)\n",
    "bins_for_1xbet.append(x5)"
   ]
  },
  {
   "cell_type": "markdown",
   "metadata": {},
   "source": [
    "### Estimated Probability of Draws For BetOlimp\n",
    "\n",
    "When we divide the number of matches ended in draw in the $Bin_i$ with the total number of matches in $Bin_i$: <br>\n",
    "\n",
    "$$Estimated\\space Probability\\space of\\space Draw = \\frac{Number\\space of\\space Matches\\space Ended\\space In\\space Draw\\space in\\space Bin_i}{Number\\space of\\space Matches\\space In\\space Bin_i}$$"
   ]
  },
  {
   "cell_type": "code",
   "execution_count": 626,
   "metadata": {},
   "outputs": [
    {
     "name": "stdout",
     "output_type": "stream",
     "text": [
      "\n",
      "BetOlimp Estimated Probability of Draws\n",
      "\n",
      "\n",
      "Bookmakers Probability : Estimated Probability\n",
      "(0.07 - 0.1]        :        0.0\n",
      "(0.1 - 0.2]        :        0.19\n",
      "(0.2 - 0.3]        :        0.24\n",
      "(0.3 - 0.4]        :        0.27\n"
     ]
    }
   ],
   "source": [
    "print(\"\\nBetOlimp Estimated Probability of Draws\\n\\n\")\n",
    "print(\"Bookmakers Probability : Estimated Probability\")\n",
    "for i in bins_for_betolimp:\n",
    "    k = i.draw == True\n",
    "    try:\n",
    "        print(\"(\" + str(round(i.possibility.min(),2)) + \" - \" + str(round(i.possibility.max(),2)) +  \"]        :        \" + str(round(len(i[k])/len(i),2)))\n",
    "    except:\n",
    "        pass\n",
    "    "
   ]
  },
  {
   "cell_type": "markdown",
   "metadata": {},
   "source": [
    "### Estimated Probability of Draws For 10Bet"
   ]
  },
  {
   "cell_type": "code",
   "execution_count": 632,
   "metadata": {},
   "outputs": [
    {
     "name": "stdout",
     "output_type": "stream",
     "text": [
      "\n",
      "10Bet Estimated Probability of Draws\n",
      "\n",
      "\n",
      "Bookmakers Probability : Estimated Probability\n",
      "(0.07 - 0.1]        :         0.09\n",
      "(0.1 - 0.2]        :         0.12\n",
      "(0.2 - 0.3]        :         0.24\n",
      "(0.3 - 0.39]        :         0.28\n"
     ]
    }
   ],
   "source": [
    "print(\"\\n10Bet Estimated Probability of Draws\\n\\n\")\n",
    "print(\"Bookmakers Probability : Estimated Probability\")\n",
    "for i in bins_for_10bet:\n",
    "    k = i.draw == True\n",
    "    try:\n",
    "        print(\"(\" + str(round(i.possibility.min(),2)) + \" - \" + str(round(i.possibility.max(),2)) +  \"]        :         \" + str(round(len(i[k])/len(i),2)))\n",
    "    except:\n",
    "        pass"
   ]
  },
  {
   "cell_type": "markdown",
   "metadata": {},
   "source": [
    "### Estimated Probability of Draws For 18Bet"
   ]
  },
  {
   "cell_type": "code",
   "execution_count": 635,
   "metadata": {},
   "outputs": [
    {
     "name": "stdout",
     "output_type": "stream",
     "text": [
      "\n",
      "18Bet Estimated Probability of Draws\n",
      "\n",
      "\n",
      "Bookmakers Probability : Estimated Probability\n",
      "(0.07 - 0.1]        :         0.1\n",
      "(0.11 - 0.2]        :         0.13\n",
      "(0.2 - 0.3]        :         0.24\n",
      "(0.3 - 0.4]        :         0.29\n"
     ]
    }
   ],
   "source": [
    "print(\"\\n18Bet Estimated Probability of Draws\\n\\n\")\n",
    "print(\"Bookmakers Probability : Estimated Probability\")\n",
    "for i in bins_for_18bet:\n",
    "    k = i.draw == True\n",
    "    try:\n",
    "        print(\"(\" + str(round(i.possibility.min(),2)) + \" - \" + str(round(i.possibility.max(),2)) +  \"]        :         \" + str(round(len(i[k])/len(i),2)))\n",
    "    except:\n",
    "        pass"
   ]
  },
  {
   "cell_type": "markdown",
   "metadata": {},
   "source": [
    "### Estimated Probability of Draws For 1xBet"
   ]
  },
  {
   "cell_type": "code",
   "execution_count": 642,
   "metadata": {},
   "outputs": [
    {
     "name": "stdout",
     "output_type": "stream",
     "text": [
      "\n",
      "1xBet Estimated Probability of Draws\n",
      "\n",
      "\n",
      "Bookmakers Probability : Estimated Probability\n",
      "(0.07 - 0.1]        :         0.04\n",
      "(0.1 - 0.2]        :         0.16\n",
      "(0.2 - 0.3]        :         0.24\n",
      "(0.3 - 0.39]        :         0.3\n",
      "(0.4 - 0.41]        :         0.0\n"
     ]
    }
   ],
   "source": [
    "print(\"\\n1xBet Estimated Probability of Draws\\n\\n\")\n",
    "print(\"Bookmakers Probability : Estimated Probability\")\n",
    "for i in bins_for_1xbet:\n",
    "    k = i.draw == True\n",
    "    try:\n",
    "        print(\"(\" + str(round(i.possibility.min(),2)) + \" - \" + str(round(i.possibility.max(),2)) +  \"]        :         \" + str(round(len(i[k])/len(i),2)))\n",
    "    except:\n",
    "        pass"
   ]
  },
  {
   "cell_type": "markdown",
   "metadata": {},
   "source": [
    "Since we are done with the draw boolen column, we can dop it:"
   ]
  },
  {
   "cell_type": "code",
   "execution_count": null,
   "metadata": {},
   "outputs": [],
   "source": [
    "bets = bets.drop(['draw'], axis=1)"
   ]
  },
  {
   "cell_type": "markdown",
   "metadata": {},
   "source": [
    "Now let's take a look at the home win bets:"
   ]
  },
  {
   "cell_type": "code",
   "execution_count": 747,
   "metadata": {},
   "outputs": [
    {
     "data": {
      "text/html": [
       "<div>\n",
       "<style scoped>\n",
       "    .dataframe tbody tr th:only-of-type {\n",
       "        vertical-align: middle;\n",
       "    }\n",
       "\n",
       "    .dataframe tbody tr th {\n",
       "        vertical-align: top;\n",
       "    }\n",
       "\n",
       "    .dataframe thead th {\n",
       "        text-align: right;\n",
       "    }\n",
       "</style>\n",
       "<table border=\"1\" class=\"dataframe\">\n",
       "  <thead>\n",
       "    <tr style=\"text-align: right;\">\n",
       "      <th></th>\n",
       "      <th>match_id</th>\n",
       "      <th>odd_bookmakers</th>\n",
       "      <th>odd_epoch</th>\n",
       "      <th>variable</th>\n",
       "      <th>value</th>\n",
       "      <th>possibility</th>\n",
       "      <th>home_win</th>\n",
       "    </tr>\n",
       "  </thead>\n",
       "  <tbody>\n",
       "    <tr>\n",
       "      <th>0</th>\n",
       "      <td>146845</td>\n",
       "      <td>BetOlimp</td>\n",
       "      <td>1486301854</td>\n",
       "      <td>odd_1</td>\n",
       "      <td>1.96</td>\n",
       "      <td>0.510204</td>\n",
       "      <td>False</td>\n",
       "    </tr>\n",
       "    <tr>\n",
       "      <th>1</th>\n",
       "      <td>151780</td>\n",
       "      <td>10Bet</td>\n",
       "      <td>1486314920</td>\n",
       "      <td>odd_1</td>\n",
       "      <td>2.15</td>\n",
       "      <td>0.465116</td>\n",
       "      <td>False</td>\n",
       "    </tr>\n",
       "    <tr>\n",
       "      <th>2</th>\n",
       "      <td>151780</td>\n",
       "      <td>18bet</td>\n",
       "      <td>1486314920</td>\n",
       "      <td>odd_1</td>\n",
       "      <td>2.17</td>\n",
       "      <td>0.460829</td>\n",
       "      <td>False</td>\n",
       "    </tr>\n",
       "    <tr>\n",
       "      <th>3</th>\n",
       "      <td>151780</td>\n",
       "      <td>1xBet</td>\n",
       "      <td>1486314920</td>\n",
       "      <td>odd_1</td>\n",
       "      <td>2.20</td>\n",
       "      <td>0.454545</td>\n",
       "      <td>False</td>\n",
       "    </tr>\n",
       "    <tr>\n",
       "      <th>4</th>\n",
       "      <td>151780</td>\n",
       "      <td>5Dimes</td>\n",
       "      <td>1486314920</td>\n",
       "      <td>odd_1</td>\n",
       "      <td>2.23</td>\n",
       "      <td>0.448430</td>\n",
       "      <td>False</td>\n",
       "    </tr>\n",
       "    <tr>\n",
       "      <th>5</th>\n",
       "      <td>151780</td>\n",
       "      <td>bet-at-home</td>\n",
       "      <td>1486314920</td>\n",
       "      <td>odd_1</td>\n",
       "      <td>2.12</td>\n",
       "      <td>0.471698</td>\n",
       "      <td>False</td>\n",
       "    </tr>\n",
       "    <tr>\n",
       "      <th>6</th>\n",
       "      <td>151780</td>\n",
       "      <td>bet365</td>\n",
       "      <td>1486314920</td>\n",
       "      <td>odd_1</td>\n",
       "      <td>2.20</td>\n",
       "      <td>0.454545</td>\n",
       "      <td>False</td>\n",
       "    </tr>\n",
       "    <tr>\n",
       "      <th>7</th>\n",
       "      <td>151780</td>\n",
       "      <td>BetOlimp</td>\n",
       "      <td>1486314920</td>\n",
       "      <td>odd_1</td>\n",
       "      <td>2.19</td>\n",
       "      <td>0.456621</td>\n",
       "      <td>False</td>\n",
       "    </tr>\n",
       "    <tr>\n",
       "      <th>8</th>\n",
       "      <td>151780</td>\n",
       "      <td>Betrally</td>\n",
       "      <td>1486314920</td>\n",
       "      <td>odd_1</td>\n",
       "      <td>2.15</td>\n",
       "      <td>0.465116</td>\n",
       "      <td>False</td>\n",
       "    </tr>\n",
       "    <tr>\n",
       "      <th>9</th>\n",
       "      <td>151780</td>\n",
       "      <td>BetVictor</td>\n",
       "      <td>1486314920</td>\n",
       "      <td>odd_1</td>\n",
       "      <td>2.20</td>\n",
       "      <td>0.454545</td>\n",
       "      <td>False</td>\n",
       "    </tr>\n",
       "  </tbody>\n",
       "</table>\n",
       "</div>"
      ],
      "text/plain": [
       "   match_id odd_bookmakers   odd_epoch variable  value  possibility  home_win\n",
       "0    146845       BetOlimp  1486301854    odd_1   1.96     0.510204     False\n",
       "1    151780          10Bet  1486314920    odd_1   2.15     0.465116     False\n",
       "2    151780          18bet  1486314920    odd_1   2.17     0.460829     False\n",
       "3    151780          1xBet  1486314920    odd_1   2.20     0.454545     False\n",
       "4    151780         5Dimes  1486314920    odd_1   2.23     0.448430     False\n",
       "5    151780    bet-at-home  1486314920    odd_1   2.12     0.471698     False\n",
       "6    151780         bet365  1486314920    odd_1   2.20     0.454545     False\n",
       "7    151780       BetOlimp  1486314920    odd_1   2.19     0.456621     False\n",
       "8    151780       Betrally  1486314920    odd_1   2.15     0.465116     False\n",
       "9    151780      BetVictor  1486314920    odd_1   2.20     0.454545     False"
      ]
     },
     "execution_count": 747,
     "metadata": {},
     "output_type": "execute_result"
    }
   ],
   "source": [
    "#bets = bets.drop(['away_win'], axis=1)\n",
    "x = bets['variable'] == 'odd_1'\n",
    "bets[\"home_win\"] = False\n",
    "bets[x].head(10)"
   ]
  },
  {
   "cell_type": "code",
   "execution_count": 748,
   "metadata": {},
   "outputs": [],
   "source": [
    "bookmakers = bets[x].odd_bookmakers.unique().tolist()\n",
    "type(bookmakers)\n",
    "\n",
    "makers_1 = list()\n",
    "\n",
    "for i in bookmakers[:4]:\n",
    "    bookmaker = bets[x]['odd_bookmakers'] == i\n",
    "    \n",
    "    makers_1.append(bets[x][bookmaker])"
   ]
  },
  {
   "cell_type": "code",
   "execution_count": 749,
   "metadata": {},
   "outputs": [
    {
     "data": {
      "text/html": [
       "<div>\n",
       "<style scoped>\n",
       "    .dataframe tbody tr th:only-of-type {\n",
       "        vertical-align: middle;\n",
       "    }\n",
       "\n",
       "    .dataframe tbody tr th {\n",
       "        vertical-align: top;\n",
       "    }\n",
       "\n",
       "    .dataframe thead th {\n",
       "        text-align: right;\n",
       "    }\n",
       "</style>\n",
       "<table border=\"1\" class=\"dataframe\">\n",
       "  <thead>\n",
       "    <tr style=\"text-align: right;\">\n",
       "      <th></th>\n",
       "      <th>match_id</th>\n",
       "      <th>odd_bookmakers</th>\n",
       "      <th>odd_epoch</th>\n",
       "      <th>variable</th>\n",
       "      <th>value</th>\n",
       "      <th>possibility</th>\n",
       "      <th>home_win</th>\n",
       "    </tr>\n",
       "  </thead>\n",
       "  <tbody>\n",
       "    <tr>\n",
       "      <th>0</th>\n",
       "      <td>146845</td>\n",
       "      <td>BetOlimp</td>\n",
       "      <td>1486301854</td>\n",
       "      <td>odd_1</td>\n",
       "      <td>1.96</td>\n",
       "      <td>0.510204</td>\n",
       "      <td>False</td>\n",
       "    </tr>\n",
       "    <tr>\n",
       "      <th>35</th>\n",
       "      <td>146845</td>\n",
       "      <td>BetOlimp</td>\n",
       "      <td>1486301854</td>\n",
       "      <td>odd_x</td>\n",
       "      <td>3.49</td>\n",
       "      <td>0.286533</td>\n",
       "      <td>False</td>\n",
       "    </tr>\n",
       "    <tr>\n",
       "      <th>70</th>\n",
       "      <td>146845</td>\n",
       "      <td>BetOlimp</td>\n",
       "      <td>1486301854</td>\n",
       "      <td>odd_2</td>\n",
       "      <td>3.65</td>\n",
       "      <td>0.273973</td>\n",
       "      <td>False</td>\n",
       "    </tr>\n",
       "  </tbody>\n",
       "</table>\n",
       "</div>"
      ],
      "text/plain": [
       "    match_id odd_bookmakers   odd_epoch variable  value  possibility  home_win\n",
       "0     146845       BetOlimp  1486301854    odd_1   1.96     0.510204     False\n",
       "35    146845       BetOlimp  1486301854    odd_x   3.49     0.286533     False\n",
       "70    146845       BetOlimp  1486301854    odd_2   3.65     0.273973     False"
      ]
     },
     "execution_count": 749,
     "metadata": {},
     "output_type": "execute_result"
    }
   ],
   "source": [
    "bets.query(f'match_id == 146845')"
   ]
  },
  {
   "cell_type": "code",
   "execution_count": 750,
   "metadata": {},
   "outputs": [
    {
     "data": {
      "text/html": [
       "<div>\n",
       "<style scoped>\n",
       "    .dataframe tbody tr th:only-of-type {\n",
       "        vertical-align: middle;\n",
       "    }\n",
       "\n",
       "    .dataframe tbody tr th {\n",
       "        vertical-align: top;\n",
       "    }\n",
       "\n",
       "    .dataframe thead th {\n",
       "        text-align: right;\n",
       "    }\n",
       "</style>\n",
       "<table border=\"1\" class=\"dataframe\">\n",
       "  <thead>\n",
       "    <tr style=\"text-align: right;\">\n",
       "      <th></th>\n",
       "      <th>match_id</th>\n",
       "      <th>odd_bookmakers</th>\n",
       "      <th>odd_epoch</th>\n",
       "      <th>variable</th>\n",
       "      <th>value</th>\n",
       "      <th>possibility</th>\n",
       "      <th>home_win</th>\n",
       "    </tr>\n",
       "  </thead>\n",
       "  <tbody>\n",
       "    <tr>\n",
       "      <th>0</th>\n",
       "      <td>146845</td>\n",
       "      <td>BetOlimp</td>\n",
       "      <td>1486301854</td>\n",
       "      <td>odd_1</td>\n",
       "      <td>1.96</td>\n",
       "      <td>0.510204</td>\n",
       "      <td>False</td>\n",
       "    </tr>\n",
       "    <tr>\n",
       "      <th>7</th>\n",
       "      <td>151780</td>\n",
       "      <td>BetOlimp</td>\n",
       "      <td>1486314920</td>\n",
       "      <td>odd_1</td>\n",
       "      <td>2.19</td>\n",
       "      <td>0.456621</td>\n",
       "      <td>False</td>\n",
       "    </tr>\n",
       "    <tr>\n",
       "      <th>24</th>\n",
       "      <td>151781</td>\n",
       "      <td>BetOlimp</td>\n",
       "      <td>1486314941</td>\n",
       "      <td>odd_1</td>\n",
       "      <td>2.95</td>\n",
       "      <td>0.338983</td>\n",
       "      <td>False</td>\n",
       "    </tr>\n",
       "    <tr>\n",
       "      <th>111</th>\n",
       "      <td>147990</td>\n",
       "      <td>BetOlimp</td>\n",
       "      <td>1486710451</td>\n",
       "      <td>odd_1</td>\n",
       "      <td>2.14</td>\n",
       "      <td>0.467290</td>\n",
       "      <td>False</td>\n",
       "    </tr>\n",
       "    <tr>\n",
       "      <th>128</th>\n",
       "      <td>148000</td>\n",
       "      <td>BetOlimp</td>\n",
       "      <td>1486710493</td>\n",
       "      <td>odd_1</td>\n",
       "      <td>2.50</td>\n",
       "      <td>0.400000</td>\n",
       "      <td>False</td>\n",
       "    </tr>\n",
       "  </tbody>\n",
       "</table>\n",
       "</div>"
      ],
      "text/plain": [
       "     match_id odd_bookmakers   odd_epoch variable  value  possibility  \\\n",
       "0      146845       BetOlimp  1486301854    odd_1   1.96     0.510204   \n",
       "7      151780       BetOlimp  1486314920    odd_1   2.19     0.456621   \n",
       "24     151781       BetOlimp  1486314941    odd_1   2.95     0.338983   \n",
       "111    147990       BetOlimp  1486710451    odd_1   2.14     0.467290   \n",
       "128    148000       BetOlimp  1486710493    odd_1   2.50     0.400000   \n",
       "\n",
       "     home_win  \n",
       "0       False  \n",
       "7       False  \n",
       "24      False  \n",
       "111     False  \n",
       "128     False  "
      ]
     },
     "execution_count": 750,
     "metadata": {},
     "output_type": "execute_result"
    }
   ],
   "source": [
    "makers_1[0].head()"
   ]
  },
  {
   "cell_type": "code",
   "execution_count": 751,
   "metadata": {
    "scrolled": true
   },
   "outputs": [
    {
     "data": {
      "text/html": [
       "<div>\n",
       "<style scoped>\n",
       "    .dataframe tbody tr th:only-of-type {\n",
       "        vertical-align: middle;\n",
       "    }\n",
       "\n",
       "    .dataframe tbody tr th {\n",
       "        vertical-align: top;\n",
       "    }\n",
       "\n",
       "    .dataframe thead th {\n",
       "        text-align: right;\n",
       "    }\n",
       "</style>\n",
       "<table border=\"1\" class=\"dataframe\">\n",
       "  <thead>\n",
       "    <tr style=\"text-align: right;\">\n",
       "      <th></th>\n",
       "      <th>match_awayteam_id</th>\n",
       "      <th>match_hometeam_id</th>\n",
       "      <th>match_id</th>\n",
       "      <th>epoch</th>\n",
       "      <th>match_status</th>\n",
       "      <th>match_live</th>\n",
       "      <th>match_hometeam_name</th>\n",
       "      <th>match_awayteam_name</th>\n",
       "      <th>match_hometeam_score</th>\n",
       "      <th>match_awayteam_score</th>\n",
       "      <th>match_hometeam_halftime_score</th>\n",
       "      <th>match_awayteam_halftime_score</th>\n",
       "      <th>match_hometeam_extra_score</th>\n",
       "      <th>match_awayteam_extra_score</th>\n",
       "      <th>match_hometeam_penalty_score</th>\n",
       "      <th>match_awayteam_penalty_score</th>\n",
       "      <th>league_id</th>\n",
       "      <th>results</th>\n",
       "    </tr>\n",
       "  </thead>\n",
       "  <tbody>\n",
       "    <tr>\n",
       "      <th>0</th>\n",
       "      <td>7109</td>\n",
       "      <td>7097</td>\n",
       "      <td>41196</td>\n",
       "      <td>1505559600</td>\n",
       "      <td>Finished</td>\n",
       "      <td>0</td>\n",
       "      <td>Levante</td>\n",
       "      <td>Valencia</td>\n",
       "      <td>1.0</td>\n",
       "      <td>1.0</td>\n",
       "      <td>1.0</td>\n",
       "      <td>1.0</td>\n",
       "      <td>1.0</td>\n",
       "      <td>1.0</td>\n",
       "      <td>NaN</td>\n",
       "      <td>NaN</td>\n",
       "      <td>468</td>\n",
       "      <td>True</td>\n",
       "    </tr>\n",
       "    <tr>\n",
       "      <th>1</th>\n",
       "      <td>2614</td>\n",
       "      <td>2619</td>\n",
       "      <td>13331</td>\n",
       "      <td>1505561400</td>\n",
       "      <td>Finished</td>\n",
       "      <td>0</td>\n",
       "      <td>Crystal Palace</td>\n",
       "      <td>Southampton</td>\n",
       "      <td>0.0</td>\n",
       "      <td>1.0</td>\n",
       "      <td>0.0</td>\n",
       "      <td>1.0</td>\n",
       "      <td>0.0</td>\n",
       "      <td>1.0</td>\n",
       "      <td>NaN</td>\n",
       "      <td>NaN</td>\n",
       "      <td>148</td>\n",
       "      <td>False</td>\n",
       "    </tr>\n",
       "    <tr>\n",
       "      <th>2</th>\n",
       "      <td>3224</td>\n",
       "      <td>3238</td>\n",
       "      <td>17683</td>\n",
       "      <td>1505568600</td>\n",
       "      <td>Finished</td>\n",
       "      <td>0</td>\n",
       "      <td>Eintracht Frankfurt</td>\n",
       "      <td>FC Augsburg</td>\n",
       "      <td>1.0</td>\n",
       "      <td>2.0</td>\n",
       "      <td>0.0</td>\n",
       "      <td>1.0</td>\n",
       "      <td>0.0</td>\n",
       "      <td>1.0</td>\n",
       "      <td>NaN</td>\n",
       "      <td>NaN</td>\n",
       "      <td>195</td>\n",
       "      <td>False</td>\n",
       "    </tr>\n",
       "    <tr>\n",
       "      <th>3</th>\n",
       "      <td>3235</td>\n",
       "      <td>3223</td>\n",
       "      <td>17684</td>\n",
       "      <td>1505568600</td>\n",
       "      <td>Finished</td>\n",
       "      <td>0</td>\n",
       "      <td>SV Werder Bremen</td>\n",
       "      <td>Schalke</td>\n",
       "      <td>1.0</td>\n",
       "      <td>2.0</td>\n",
       "      <td>1.0</td>\n",
       "      <td>1.0</td>\n",
       "      <td>1.0</td>\n",
       "      <td>1.0</td>\n",
       "      <td>NaN</td>\n",
       "      <td>NaN</td>\n",
       "      <td>195</td>\n",
       "      <td>False</td>\n",
       "    </tr>\n",
       "    <tr>\n",
       "      <th>4</th>\n",
       "      <td>3237</td>\n",
       "      <td>3225</td>\n",
       "      <td>17682</td>\n",
       "      <td>1505568600</td>\n",
       "      <td>Finished</td>\n",
       "      <td>0</td>\n",
       "      <td>Bayern Munich</td>\n",
       "      <td>1. FSV Mainz 05</td>\n",
       "      <td>4.0</td>\n",
       "      <td>0.0</td>\n",
       "      <td>2.0</td>\n",
       "      <td>0.0</td>\n",
       "      <td>2.0</td>\n",
       "      <td>0.0</td>\n",
       "      <td>NaN</td>\n",
       "      <td>NaN</td>\n",
       "      <td>195</td>\n",
       "      <td>False</td>\n",
       "    </tr>\n",
       "  </tbody>\n",
       "</table>\n",
       "</div>"
      ],
      "text/plain": [
       "   match_awayteam_id  match_hometeam_id  match_id       epoch match_status  \\\n",
       "0               7109               7097     41196  1505559600     Finished   \n",
       "1               2614               2619     13331  1505561400     Finished   \n",
       "2               3224               3238     17683  1505568600     Finished   \n",
       "3               3235               3223     17684  1505568600     Finished   \n",
       "4               3237               3225     17682  1505568600     Finished   \n",
       "\n",
       "   match_live  match_hometeam_name match_awayteam_name  match_hometeam_score  \\\n",
       "0           0              Levante            Valencia                   1.0   \n",
       "1           0       Crystal Palace         Southampton                   0.0   \n",
       "2           0  Eintracht Frankfurt         FC Augsburg                   1.0   \n",
       "3           0     SV Werder Bremen             Schalke                   1.0   \n",
       "4           0        Bayern Munich     1. FSV Mainz 05                   4.0   \n",
       "\n",
       "   match_awayteam_score  match_hometeam_halftime_score  \\\n",
       "0                   1.0                            1.0   \n",
       "1                   1.0                            0.0   \n",
       "2                   2.0                            0.0   \n",
       "3                   2.0                            1.0   \n",
       "4                   0.0                            2.0   \n",
       "\n",
       "   match_awayteam_halftime_score  match_hometeam_extra_score  \\\n",
       "0                            1.0                         1.0   \n",
       "1                            1.0                         0.0   \n",
       "2                            1.0                         0.0   \n",
       "3                            1.0                         1.0   \n",
       "4                            0.0                         2.0   \n",
       "\n",
       "   match_awayteam_extra_score  match_hometeam_penalty_score  \\\n",
       "0                         1.0                           NaN   \n",
       "1                         1.0                           NaN   \n",
       "2                         1.0                           NaN   \n",
       "3                         1.0                           NaN   \n",
       "4                         0.0                           NaN   \n",
       "\n",
       "   match_awayteam_penalty_score  league_id  results  \n",
       "0                           NaN        468     True  \n",
       "1                           NaN        148    False  \n",
       "2                           NaN        195    False  \n",
       "3                           NaN        195    False  \n",
       "4                           NaN        195    False  "
      ]
     },
     "execution_count": 751,
     "metadata": {},
     "output_type": "execute_result"
    }
   ],
   "source": [
    "data.head()"
   ]
  },
  {
   "cell_type": "markdown",
   "metadata": {},
   "source": [
    "We extract the part of the data which has home team wins. Since we dont have a column that tells us the result, we compare goals of home teams and away teams and add the matches with bigger home team goals to the new dataset called **home_wins**"
   ]
  },
  {
   "cell_type": "code",
   "execution_count": 752,
   "metadata": {},
   "outputs": [
    {
     "data": {
      "text/html": [
       "<div>\n",
       "<style scoped>\n",
       "    .dataframe tbody tr th:only-of-type {\n",
       "        vertical-align: middle;\n",
       "    }\n",
       "\n",
       "    .dataframe tbody tr th {\n",
       "        vertical-align: top;\n",
       "    }\n",
       "\n",
       "    .dataframe thead th {\n",
       "        text-align: right;\n",
       "    }\n",
       "</style>\n",
       "<table border=\"1\" class=\"dataframe\">\n",
       "  <thead>\n",
       "    <tr style=\"text-align: right;\">\n",
       "      <th></th>\n",
       "      <th>match_awayteam_id</th>\n",
       "      <th>match_hometeam_id</th>\n",
       "      <th>match_id</th>\n",
       "      <th>epoch</th>\n",
       "      <th>match_status</th>\n",
       "      <th>match_live</th>\n",
       "      <th>match_hometeam_name</th>\n",
       "      <th>match_awayteam_name</th>\n",
       "      <th>match_hometeam_score</th>\n",
       "      <th>match_awayteam_score</th>\n",
       "      <th>match_hometeam_halftime_score</th>\n",
       "      <th>match_awayteam_halftime_score</th>\n",
       "      <th>match_hometeam_extra_score</th>\n",
       "      <th>match_awayteam_extra_score</th>\n",
       "      <th>match_hometeam_penalty_score</th>\n",
       "      <th>match_awayteam_penalty_score</th>\n",
       "      <th>league_id</th>\n",
       "      <th>results</th>\n",
       "    </tr>\n",
       "  </thead>\n",
       "  <tbody>\n",
       "    <tr>\n",
       "      <th>4</th>\n",
       "      <td>3237</td>\n",
       "      <td>3225</td>\n",
       "      <td>17682</td>\n",
       "      <td>1505568600</td>\n",
       "      <td>Finished</td>\n",
       "      <td>0</td>\n",
       "      <td>Bayern Munich</td>\n",
       "      <td>1. FSV Mainz 05</td>\n",
       "      <td>4.0</td>\n",
       "      <td>0.0</td>\n",
       "      <td>2.0</td>\n",
       "      <td>0.0</td>\n",
       "      <td>2.0</td>\n",
       "      <td>0.0</td>\n",
       "      <td>NaN</td>\n",
       "      <td>NaN</td>\n",
       "      <td>195</td>\n",
       "      <td>False</td>\n",
       "    </tr>\n",
       "    <tr>\n",
       "      <th>8</th>\n",
       "      <td>2642</td>\n",
       "      <td>2650</td>\n",
       "      <td>13448</td>\n",
       "      <td>1505570400</td>\n",
       "      <td>Finished</td>\n",
       "      <td>0</td>\n",
       "      <td>Bristol City</td>\n",
       "      <td>Derby</td>\n",
       "      <td>4.0</td>\n",
       "      <td>1.0</td>\n",
       "      <td>0.0</td>\n",
       "      <td>1.0</td>\n",
       "      <td>0.0</td>\n",
       "      <td>1.0</td>\n",
       "      <td>NaN</td>\n",
       "      <td>NaN</td>\n",
       "      <td>149</td>\n",
       "      <td>False</td>\n",
       "    </tr>\n",
       "    <tr>\n",
       "      <th>10</th>\n",
       "      <td>2645</td>\n",
       "      <td>2648</td>\n",
       "      <td>13453</td>\n",
       "      <td>1505570400</td>\n",
       "      <td>Finished</td>\n",
       "      <td>0</td>\n",
       "      <td>Middlesbrough</td>\n",
       "      <td>QPR</td>\n",
       "      <td>3.0</td>\n",
       "      <td>2.0</td>\n",
       "      <td>1.0</td>\n",
       "      <td>1.0</td>\n",
       "      <td>1.0</td>\n",
       "      <td>1.0</td>\n",
       "      <td>NaN</td>\n",
       "      <td>NaN</td>\n",
       "      <td>149</td>\n",
       "      <td>False</td>\n",
       "    </tr>\n",
       "    <tr>\n",
       "      <th>13</th>\n",
       "      <td>2653</td>\n",
       "      <td>2638</td>\n",
       "      <td>13454</td>\n",
       "      <td>1505570400</td>\n",
       "      <td>Finished</td>\n",
       "      <td>0</td>\n",
       "      <td>Millwall</td>\n",
       "      <td>Leeds</td>\n",
       "      <td>1.0</td>\n",
       "      <td>0.0</td>\n",
       "      <td>0.0</td>\n",
       "      <td>0.0</td>\n",
       "      <td>0.0</td>\n",
       "      <td>0.0</td>\n",
       "      <td>NaN</td>\n",
       "      <td>NaN</td>\n",
       "      <td>149</td>\n",
       "      <td>False</td>\n",
       "    </tr>\n",
       "    <tr>\n",
       "      <th>14</th>\n",
       "      <td>7110</td>\n",
       "      <td>7115</td>\n",
       "      <td>41313</td>\n",
       "      <td>1505570400</td>\n",
       "      <td>Finished</td>\n",
       "      <td>0</td>\n",
       "      <td>Valladolid</td>\n",
       "      <td>Granada CF</td>\n",
       "      <td>2.0</td>\n",
       "      <td>1.0</td>\n",
       "      <td>1.0</td>\n",
       "      <td>0.0</td>\n",
       "      <td>1.0</td>\n",
       "      <td>0.0</td>\n",
       "      <td>NaN</td>\n",
       "      <td>NaN</td>\n",
       "      <td>468</td>\n",
       "      <td>False</td>\n",
       "    </tr>\n",
       "  </tbody>\n",
       "</table>\n",
       "</div>"
      ],
      "text/plain": [
       "    match_awayteam_id  match_hometeam_id  match_id       epoch match_status  \\\n",
       "4                3237               3225     17682  1505568600     Finished   \n",
       "8                2642               2650     13448  1505570400     Finished   \n",
       "10               2645               2648     13453  1505570400     Finished   \n",
       "13               2653               2638     13454  1505570400     Finished   \n",
       "14               7110               7115     41313  1505570400     Finished   \n",
       "\n",
       "    match_live match_hometeam_name match_awayteam_name  match_hometeam_score  \\\n",
       "4            0       Bayern Munich     1. FSV Mainz 05                   4.0   \n",
       "8            0        Bristol City               Derby                   4.0   \n",
       "10           0       Middlesbrough                 QPR                   3.0   \n",
       "13           0            Millwall               Leeds                   1.0   \n",
       "14           0          Valladolid          Granada CF                   2.0   \n",
       "\n",
       "    match_awayteam_score  match_hometeam_halftime_score  \\\n",
       "4                    0.0                            2.0   \n",
       "8                    1.0                            0.0   \n",
       "10                   2.0                            1.0   \n",
       "13                   0.0                            0.0   \n",
       "14                   1.0                            1.0   \n",
       "\n",
       "    match_awayteam_halftime_score  match_hometeam_extra_score  \\\n",
       "4                             0.0                         2.0   \n",
       "8                             1.0                         0.0   \n",
       "10                            1.0                         1.0   \n",
       "13                            0.0                         0.0   \n",
       "14                            0.0                         1.0   \n",
       "\n",
       "    match_awayteam_extra_score  match_hometeam_penalty_score  \\\n",
       "4                          0.0                           NaN   \n",
       "8                          1.0                           NaN   \n",
       "10                         1.0                           NaN   \n",
       "13                         0.0                           NaN   \n",
       "14                         0.0                           NaN   \n",
       "\n",
       "    match_awayteam_penalty_score  league_id  results  \n",
       "4                            NaN        195    False  \n",
       "8                            NaN        149    False  \n",
       "10                           NaN        149    False  \n",
       "13                           NaN        149    False  \n",
       "14                           NaN        468    False  "
      ]
     },
     "execution_count": 752,
     "metadata": {},
     "output_type": "execute_result"
    }
   ],
   "source": [
    "home_wins = data[data['match_hometeam_score'] > data['match_awayteam_score']]\n",
    "home_wins.head()"
   ]
  },
  {
   "cell_type": "code",
   "execution_count": 753,
   "metadata": {},
   "outputs": [],
   "source": [
    "for i in makers_1:\n",
    "    for index,rows in i.iterrows():\n",
    "        id = rows['match_id']\n",
    "        if len(home_wins.query(f'match_id == {id}')) > 0:\n",
    "            i.at[index,'home_win'] = True"
   ]
  },
  {
   "cell_type": "code",
   "execution_count": 755,
   "metadata": {},
   "outputs": [],
   "source": [
    "bins_for_10bet_1 = list()\n",
    "bins_for_18bet_1 = list()\n",
    "bins_for_betolimp_1 = list()\n",
    "bins_for_1xbet_1 = list()\n",
    "\n",
    "for i in makers_1:\n",
    "    poss = 0.0\n",
    "    if i['odd_bookmakers'].unique().tolist()[0] == 'BetOlimp':\n",
    "        while poss <= 0.90:\n",
    "            bins_for_betolimp_1.append(i[np.logical_and(i['possibility'] > poss , i['possibility'] <= (poss + 0.10))])\n",
    "            poss += 0.10\n",
    "    poss = 0.0\n",
    "    if i['odd_bookmakers'].unique().tolist()[0] == '10Bet':\n",
    "        while poss <= 0.90:\n",
    "            bins_for_10bet_1.append(i[np.logical_and(i['possibility'] > poss , i['possibility'] <= (poss + 0.10))])\n",
    "            poss += 0.10\n",
    "    poss = 0.0\n",
    "    if i['odd_bookmakers'].unique().tolist()[0] == '18Bet':\n",
    "        while poss <= 0.90:\n",
    "            bins_for_18bet_1.append(i[np.logical_and(i['possibility'] > poss , i['possibility'] <= (poss + 0.10))])\n",
    "            poss += 0.10\n",
    "    poss = 0.0\n",
    "    if i['odd_bookmakers'].unique().tolist()[0] == '1xBet':\n",
    "        while poss <= 0.90:\n",
    "            bins_for_10bet_1.append(i[np.logical_and(i['possibility'] > poss , i['possibility'] <= (poss + 0.10))])\n",
    "            poss += 0.10\n",
    "    poss = 0.0"
   ]
  },
  {
   "cell_type": "code",
   "execution_count": 759,
   "metadata": {},
   "outputs": [
    {
     "data": {
      "text/plain": [
       "<matplotlib.collections.PathCollection at 0x23465685f28>"
      ]
     },
     "execution_count": 759,
     "metadata": {},
     "output_type": "execute_result"
    },
    {
     "data": {
      "image/png": "[encoded data removed]",
      "text/plain": [
       "<Figure size 432x288 with 1 Axes>"
      ]
     },
     "metadata": {},
     "output_type": "display_data"
    }
   ],
   "source": []
  },
  {
   "cell_type": "code",
   "execution_count": null,
   "metadata": {},
   "outputs": [],
   "source": []
  },
  {
   "cell_type": "code",
   "execution_count": 757,
   "metadata": {},
   "outputs": [
    {
     "name": "stdout",
     "output_type": "stream",
     "text": [
      "['BetOlimp']\n",
      "['10Bet']\n",
      "['18bet']\n",
      "['1xBet']\n"
     ]
    }
   ],
   "source": [
    "for i in makers_1:\n",
    "    print(i['odd_bookmakers'].unique().tolist())\n",
    "    "
   ]
  },
  {
   "cell_type": "code",
   "execution_count": 730,
   "metadata": {},
   "outputs": [
    {
     "data": {
      "text/html": [
       "<div>\n",
       "<style scoped>\n",
       "    .dataframe tbody tr th:only-of-type {\n",
       "        vertical-align: middle;\n",
       "    }\n",
       "\n",
       "    .dataframe tbody tr th {\n",
       "        vertical-align: top;\n",
       "    }\n",
       "\n",
       "    .dataframe thead th {\n",
       "        text-align: right;\n",
       "    }\n",
       "</style>\n",
       "<table border=\"1\" class=\"dataframe\">\n",
       "  <thead>\n",
       "    <tr style=\"text-align: right;\">\n",
       "      <th></th>\n",
       "      <th>match_id</th>\n",
       "      <th>odd_bookmakers</th>\n",
       "      <th>odd_epoch</th>\n",
       "      <th>variable</th>\n",
       "      <th>value</th>\n",
       "      <th>possibility</th>\n",
       "      <th>away_win</th>\n",
       "    </tr>\n",
       "  </thead>\n",
       "  <tbody>\n",
       "    <tr>\n",
       "      <th>70</th>\n",
       "      <td>146845</td>\n",
       "      <td>BetOlimp</td>\n",
       "      <td>1486301854</td>\n",
       "      <td>odd_2</td>\n",
       "      <td>3.65</td>\n",
       "      <td>0.273973</td>\n",
       "      <td>False</td>\n",
       "    </tr>\n",
       "    <tr>\n",
       "      <th>71</th>\n",
       "      <td>151780</td>\n",
       "      <td>10Bet</td>\n",
       "      <td>1486314920</td>\n",
       "      <td>odd_2</td>\n",
       "      <td>3.70</td>\n",
       "      <td>0.270270</td>\n",
       "      <td>False</td>\n",
       "    </tr>\n",
       "    <tr>\n",
       "      <th>72</th>\n",
       "      <td>151780</td>\n",
       "      <td>18bet</td>\n",
       "      <td>1486314920</td>\n",
       "      <td>odd_2</td>\n",
       "      <td>3.32</td>\n",
       "      <td>0.301205</td>\n",
       "      <td>False</td>\n",
       "    </tr>\n",
       "    <tr>\n",
       "      <th>73</th>\n",
       "      <td>151780</td>\n",
       "      <td>1xBet</td>\n",
       "      <td>1486314920</td>\n",
       "      <td>odd_2</td>\n",
       "      <td>3.88</td>\n",
       "      <td>0.257732</td>\n",
       "      <td>False</td>\n",
       "    </tr>\n",
       "    <tr>\n",
       "      <th>74</th>\n",
       "      <td>151780</td>\n",
       "      <td>5Dimes</td>\n",
       "      <td>1486314920</td>\n",
       "      <td>odd_2</td>\n",
       "      <td>3.82</td>\n",
       "      <td>0.261780</td>\n",
       "      <td>False</td>\n",
       "    </tr>\n",
       "  </tbody>\n",
       "</table>\n",
       "</div>"
      ],
      "text/plain": [
       "    match_id odd_bookmakers   odd_epoch variable  value  possibility  away_win\n",
       "70    146845       BetOlimp  1486301854    odd_2   3.65     0.273973     False\n",
       "71    151780          10Bet  1486314920    odd_2   3.70     0.270270     False\n",
       "72    151780          18bet  1486314920    odd_2   3.32     0.301205     False\n",
       "73    151780          1xBet  1486314920    odd_2   3.88     0.257732     False\n",
       "74    151780         5Dimes  1486314920    odd_2   3.82     0.261780     False"
      ]
     },
     "execution_count": 730,
     "metadata": {},
     "output_type": "execute_result"
    }
   ],
   "source": [
    "#bets = bets.drop(['home_win'], axis = 1)\n",
    "x = bets['variable'] == 'odd_2'\n",
    "bets[\"away_win\"] = False\n",
    "bets[x].head()"
   ]
  },
  {
   "cell_type": "code",
   "execution_count": 731,
   "metadata": {},
   "outputs": [],
   "source": [
    "bookmakers = bets[x].odd_bookmakers.unique().tolist()\n",
    "type(bookmakers)\n",
    "\n",
    "makers_2 = list()\n",
    "\n",
    "for i in bookmakers[:4]:\n",
    "    bookmaker = bets[x]['odd_bookmakers'] == i\n",
    "    \n",
    "    makers_2.append(bets[x][bookmaker])"
   ]
  },
  {
   "cell_type": "code",
   "execution_count": 732,
   "metadata": {},
   "outputs": [
    {
     "data": {
      "text/html": [
       "<div>\n",
       "<style scoped>\n",
       "    .dataframe tbody tr th:only-of-type {\n",
       "        vertical-align: middle;\n",
       "    }\n",
       "\n",
       "    .dataframe tbody tr th {\n",
       "        vertical-align: top;\n",
       "    }\n",
       "\n",
       "    .dataframe thead th {\n",
       "        text-align: right;\n",
       "    }\n",
       "</style>\n",
       "<table border=\"1\" class=\"dataframe\">\n",
       "  <thead>\n",
       "    <tr style=\"text-align: right;\">\n",
       "      <th></th>\n",
       "      <th>match_awayteam_id</th>\n",
       "      <th>match_hometeam_id</th>\n",
       "      <th>match_id</th>\n",
       "      <th>epoch</th>\n",
       "      <th>match_status</th>\n",
       "      <th>match_live</th>\n",
       "      <th>match_hometeam_name</th>\n",
       "      <th>match_awayteam_name</th>\n",
       "      <th>match_hometeam_score</th>\n",
       "      <th>match_awayteam_score</th>\n",
       "      <th>match_hometeam_halftime_score</th>\n",
       "      <th>match_awayteam_halftime_score</th>\n",
       "      <th>match_hometeam_extra_score</th>\n",
       "      <th>match_awayteam_extra_score</th>\n",
       "      <th>match_hometeam_penalty_score</th>\n",
       "      <th>match_awayteam_penalty_score</th>\n",
       "      <th>league_id</th>\n",
       "      <th>results</th>\n",
       "    </tr>\n",
       "  </thead>\n",
       "  <tbody>\n",
       "    <tr>\n",
       "      <th>1</th>\n",
       "      <td>2614</td>\n",
       "      <td>2619</td>\n",
       "      <td>13331</td>\n",
       "      <td>1505561400</td>\n",
       "      <td>Finished</td>\n",
       "      <td>0</td>\n",
       "      <td>Crystal Palace</td>\n",
       "      <td>Southampton</td>\n",
       "      <td>0.0</td>\n",
       "      <td>1.0</td>\n",
       "      <td>0.0</td>\n",
       "      <td>1.0</td>\n",
       "      <td>0.0</td>\n",
       "      <td>1.0</td>\n",
       "      <td>NaN</td>\n",
       "      <td>NaN</td>\n",
       "      <td>148</td>\n",
       "      <td>False</td>\n",
       "    </tr>\n",
       "    <tr>\n",
       "      <th>2</th>\n",
       "      <td>3224</td>\n",
       "      <td>3238</td>\n",
       "      <td>17683</td>\n",
       "      <td>1505568600</td>\n",
       "      <td>Finished</td>\n",
       "      <td>0</td>\n",
       "      <td>Eintracht Frankfurt</td>\n",
       "      <td>FC Augsburg</td>\n",
       "      <td>1.0</td>\n",
       "      <td>2.0</td>\n",
       "      <td>0.0</td>\n",
       "      <td>1.0</td>\n",
       "      <td>0.0</td>\n",
       "      <td>1.0</td>\n",
       "      <td>NaN</td>\n",
       "      <td>NaN</td>\n",
       "      <td>195</td>\n",
       "      <td>False</td>\n",
       "    </tr>\n",
       "    <tr>\n",
       "      <th>3</th>\n",
       "      <td>3235</td>\n",
       "      <td>3223</td>\n",
       "      <td>17684</td>\n",
       "      <td>1505568600</td>\n",
       "      <td>Finished</td>\n",
       "      <td>0</td>\n",
       "      <td>SV Werder Bremen</td>\n",
       "      <td>Schalke</td>\n",
       "      <td>1.0</td>\n",
       "      <td>2.0</td>\n",
       "      <td>1.0</td>\n",
       "      <td>1.0</td>\n",
       "      <td>1.0</td>\n",
       "      <td>1.0</td>\n",
       "      <td>NaN</td>\n",
       "      <td>NaN</td>\n",
       "      <td>195</td>\n",
       "      <td>False</td>\n",
       "    </tr>\n",
       "    <tr>\n",
       "      <th>5</th>\n",
       "      <td>2626</td>\n",
       "      <td>2623</td>\n",
       "      <td>13329</td>\n",
       "      <td>1505570400</td>\n",
       "      <td>Finished</td>\n",
       "      <td>0</td>\n",
       "      <td>Watford</td>\n",
       "      <td>Manchester City</td>\n",
       "      <td>0.0</td>\n",
       "      <td>6.0</td>\n",
       "      <td>0.0</td>\n",
       "      <td>3.0</td>\n",
       "      <td>0.0</td>\n",
       "      <td>3.0</td>\n",
       "      <td>NaN</td>\n",
       "      <td>NaN</td>\n",
       "      <td>148</td>\n",
       "      <td>False</td>\n",
       "    </tr>\n",
       "    <tr>\n",
       "      <th>7</th>\n",
       "      <td>2641</td>\n",
       "      <td>2654</td>\n",
       "      <td>13456</td>\n",
       "      <td>1505570400</td>\n",
       "      <td>Finished</td>\n",
       "      <td>0</td>\n",
       "      <td>Sheffield Utd</td>\n",
       "      <td>Norwich</td>\n",
       "      <td>0.0</td>\n",
       "      <td>1.0</td>\n",
       "      <td>0.0</td>\n",
       "      <td>1.0</td>\n",
       "      <td>0.0</td>\n",
       "      <td>1.0</td>\n",
       "      <td>NaN</td>\n",
       "      <td>NaN</td>\n",
       "      <td>148</td>\n",
       "      <td>False</td>\n",
       "    </tr>\n",
       "  </tbody>\n",
       "</table>\n",
       "</div>"
      ],
      "text/plain": [
       "   match_awayteam_id  match_hometeam_id  match_id       epoch match_status  \\\n",
       "1               2614               2619     13331  1505561400     Finished   \n",
       "2               3224               3238     17683  1505568600     Finished   \n",
       "3               3235               3223     17684  1505568600     Finished   \n",
       "5               2626               2623     13329  1505570400     Finished   \n",
       "7               2641               2654     13456  1505570400     Finished   \n",
       "\n",
       "   match_live  match_hometeam_name match_awayteam_name  match_hometeam_score  \\\n",
       "1           0       Crystal Palace         Southampton                   0.0   \n",
       "2           0  Eintracht Frankfurt         FC Augsburg                   1.0   \n",
       "3           0     SV Werder Bremen             Schalke                   1.0   \n",
       "5           0              Watford     Manchester City                   0.0   \n",
       "7           0        Sheffield Utd             Norwich                   0.0   \n",
       "\n",
       "   match_awayteam_score  match_hometeam_halftime_score  \\\n",
       "1                   1.0                            0.0   \n",
       "2                   2.0                            0.0   \n",
       "3                   2.0                            1.0   \n",
       "5                   6.0                            0.0   \n",
       "7                   1.0                            0.0   \n",
       "\n",
       "   match_awayteam_halftime_score  match_hometeam_extra_score  \\\n",
       "1                            1.0                         0.0   \n",
       "2                            1.0                         0.0   \n",
       "3                            1.0                         1.0   \n",
       "5                            3.0                         0.0   \n",
       "7                            1.0                         0.0   \n",
       "\n",
       "   match_awayteam_extra_score  match_hometeam_penalty_score  \\\n",
       "1                         1.0                           NaN   \n",
       "2                         1.0                           NaN   \n",
       "3                         1.0                           NaN   \n",
       "5                         3.0                           NaN   \n",
       "7                         1.0                           NaN   \n",
       "\n",
       "   match_awayteam_penalty_score  league_id  results  \n",
       "1                           NaN        148    False  \n",
       "2                           NaN        195    False  \n",
       "3                           NaN        195    False  \n",
       "5                           NaN        148    False  \n",
       "7                           NaN        148    False  "
      ]
     },
     "execution_count": 732,
     "metadata": {},
     "output_type": "execute_result"
    }
   ],
   "source": [
    "away_wins = data[data['match_hometeam_score'] < data['match_awayteam_score']]\n",
    "away_wins.head()"
   ]
  },
  {
   "cell_type": "code",
   "execution_count": 733,
   "metadata": {},
   "outputs": [],
   "source": [
    "for i in makers_2:\n",
    "    for index,rows in i.iterrows():\n",
    "        id = rows['match_id']\n",
    "        if len(away_wins.query(f'match_id == {id}')) > 0:\n",
    "            i.at[index,'away_win'] = True"
   ]
  },
  {
   "cell_type": "code",
   "execution_count": 740,
   "metadata": {},
   "outputs": [],
   "source": [
    "bins_for_10bet_2 = list()\n",
    "bins_for_18bet_2 = list()\n",
    "bins_for_betolimp_2 = list()\n",
    "bins_for_1xbet_2 = list()\n",
    "\n",
    "for i in makers_2:\n",
    "    poss = 0.0\n",
    "    if i['odd_bookmakers'].unique().tolist()[0] == 'BetOlimp':\n",
    "        while poss <= 0.90:\n",
    "            bins_for_betolimp_2.append(i[np.logical_and(i['possibility'] > poss , i['possibility'] <= (poss + 0.10))])\n",
    "            poss += 0.10\n",
    "    poss = 0.0\n",
    "    if i['odd_bookmakers'].unique().tolist()[0] == '10Bet':\n",
    "        while poss <= 0.90:\n",
    "            bins_for_10bet_2.append(i[np.logical_and(i['possibility'] > poss , i['possibility'] <= (poss + 0.10))])\n",
    "            poss += 0.10\n",
    "    poss = 0.0\n",
    "    if i['odd_bookmakers'].unique().tolist()[0] == '18Bet':\n",
    "        while poss <= 0.90:\n",
    "            bins_for_18bet_2.append(i[np.logical_and(i['possibility'] > poss , i['possibility'] <= (poss + 0.10))])\n",
    "            poss += 0.10\n",
    "    poss = 0.0\n",
    "    if i['odd_bookmakers'].unique().tolist()[0] == '1xBet':\n",
    "        while poss <= 0.90:\n",
    "            bins_for_10bet_2.append(i[np.logical_and(i['possibility'] > poss , i['possibility'] <= (poss + 0.10))])\n",
    "            poss += 0.10\n",
    "    poss = 0.0"
   ]
  },
  {
   "cell_type": "code",
   "execution_count": 805,
   "metadata": {},
   "outputs": [
    {
     "data": {
      "text/html": [
       "<div>\n",
       "<style scoped>\n",
       "    .dataframe tbody tr th:only-of-type {\n",
       "        vertical-align: middle;\n",
       "    }\n",
       "\n",
       "    .dataframe tbody tr th {\n",
       "        vertical-align: top;\n",
       "    }\n",
       "\n",
       "    .dataframe thead th {\n",
       "        text-align: right;\n",
       "    }\n",
       "</style>\n",
       "<table border=\"1\" class=\"dataframe\">\n",
       "  <thead>\n",
       "    <tr style=\"text-align: right;\">\n",
       "      <th></th>\n",
       "      <th>match_id</th>\n",
       "      <th>odd_bookmakers</th>\n",
       "      <th>odd_epoch</th>\n",
       "      <th>variable</th>\n",
       "      <th>value</th>\n",
       "      <th>possibility</th>\n",
       "      <th>home_win</th>\n",
       "    </tr>\n",
       "  </thead>\n",
       "  <tbody>\n",
       "    <tr>\n",
       "      <th>0</th>\n",
       "      <td>146845</td>\n",
       "      <td>BetOlimp</td>\n",
       "      <td>1486301854</td>\n",
       "      <td>odd_1</td>\n",
       "      <td>1.96</td>\n",
       "      <td>0.510204</td>\n",
       "      <td>True</td>\n",
       "    </tr>\n",
       "    <tr>\n",
       "      <th>7</th>\n",
       "      <td>151780</td>\n",
       "      <td>BetOlimp</td>\n",
       "      <td>1486314920</td>\n",
       "      <td>odd_1</td>\n",
       "      <td>2.19</td>\n",
       "      <td>0.456621</td>\n",
       "      <td>True</td>\n",
       "    </tr>\n",
       "    <tr>\n",
       "      <th>24</th>\n",
       "      <td>151781</td>\n",
       "      <td>BetOlimp</td>\n",
       "      <td>1486314941</td>\n",
       "      <td>odd_1</td>\n",
       "      <td>2.95</td>\n",
       "      <td>0.338983</td>\n",
       "      <td>True</td>\n",
       "    </tr>\n",
       "    <tr>\n",
       "      <th>111</th>\n",
       "      <td>147990</td>\n",
       "      <td>BetOlimp</td>\n",
       "      <td>1486710451</td>\n",
       "      <td>odd_1</td>\n",
       "      <td>2.14</td>\n",
       "      <td>0.467290</td>\n",
       "      <td>False</td>\n",
       "    </tr>\n",
       "    <tr>\n",
       "      <th>128</th>\n",
       "      <td>148000</td>\n",
       "      <td>BetOlimp</td>\n",
       "      <td>1486710493</td>\n",
       "      <td>odd_1</td>\n",
       "      <td>2.50</td>\n",
       "      <td>0.400000</td>\n",
       "      <td>False</td>\n",
       "    </tr>\n",
       "  </tbody>\n",
       "</table>\n",
       "</div>"
      ],
      "text/plain": [
       "     match_id odd_bookmakers   odd_epoch variable  value  possibility  \\\n",
       "0      146845       BetOlimp  1486301854    odd_1   1.96     0.510204   \n",
       "7      151780       BetOlimp  1486314920    odd_1   2.19     0.456621   \n",
       "24     151781       BetOlimp  1486314941    odd_1   2.95     0.338983   \n",
       "111    147990       BetOlimp  1486710451    odd_1   2.14     0.467290   \n",
       "128    148000       BetOlimp  1486710493    odd_1   2.50     0.400000   \n",
       "\n",
       "     home_win  \n",
       "0        True  \n",
       "7        True  \n",
       "24       True  \n",
       "111     False  \n",
       "128     False  "
      ]
     },
     "execution_count": 805,
     "metadata": {},
     "output_type": "execute_result"
    }
   ],
   "source": [
    "makers_1[0].head()\n",
    "#makers[0].head()"
   ]
  },
  {
   "cell_type": "code",
   "execution_count": 795,
   "metadata": {},
   "outputs": [
    {
     "data": {
      "text/plain": [
       "70    -0.273973\n",
       "77    -0.275482\n",
       "94    -0.406504\n",
       "221   -0.263852\n",
       "238   -0.335570\n",
       "Name: possibility, dtype: float64"
      ]
     },
     "execution_count": 795,
     "metadata": {},
     "output_type": "execute_result"
    }
   ],
   "source": [
    "home_away = pd.concat([(-makers_2[0][\"possibility\"]), makers_1[0][\"possibility\"]])\n",
    "home_away.head()\n",
    "                "
   ]
  },
  {
   "cell_type": "code",
   "execution_count": 807,
   "metadata": {},
   "outputs": [
    {
     "data": {
      "image/png": "[encoded data removed]",
      "text/plain": [
       "<Figure size 1152x504 with 2 Axes>"
      ]
     },
     "metadata": {},
     "output_type": "display_data"
    }
   ],
   "source": [
    "\n",
    "\n",
    "plt.figure(figsize= (16,7))\n",
    "\n",
    "plt.subplot(1,2,1)\n",
    "plt.title(\"BetOlimp\")\n",
    "plt.scatter(makers_1[0][\"possibility\"], makers[0][\"possibility\"], alpha = 0.05)\n",
    "plt.xlabel(\"Home-Win Possibilities\")\n",
    "plt.ylabel(\"Draw Possibilities\")\n",
    "plt.subplot(1,2,2)\n",
    "plt.title(\"10Bet\")\n",
    "plt.scatter(makers_1[1][\"possibility\"], makers[1][\"possibility\"], alpha = 0.05)\n",
    "plt.xlabel(\"Home-Win Possibilities\")\n",
    "plt.ylabel(\"Draw Possibilities\")\n",
    "plt.show()"
   ]
  },
  {
   "cell_type": "code",
   "execution_count": null,
   "metadata": {},
   "outputs": [],
   "source": []
  }
 ],
 "metadata": {
  "kernelspec": {
   "display_name": "Python 3",
   "language": "python",
   "name": "python3"
  },
  "language_info": {
   "codemirror_mode": {
    "name": "ipython",
    "version": 3
   },
   "file_extension": ".py",
   "mimetype": "text/x-python",
   "name": "python",
   "nbconvert_exporter": "python",
   "pygments_lexer": "ipython3",
   "version": "3.6.6"
  }
 },
 "nbformat": 4,
 "nbformat_minor": 2
}
